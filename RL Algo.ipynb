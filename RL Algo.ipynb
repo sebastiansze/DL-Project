{
 "cells": [
  {
   "cell_type": "code",
   "execution_count": null,
   "metadata": {},
   "outputs": [],
   "source": [
    "import numpy as np\n",
    "import matplotlib.pyplot as plt\n",
    "\n",
    "import torch.optim as optim\n",
    "import torch.nn as nn\n",
    "import torch.nn.functional as F\n",
    "import torch as T\n",
    "from tqdm import tqdm\n",
    "\n"
   ]
  },
  {
   "cell_type": "code",
   "execution_count": null,
   "metadata": {},
   "outputs": [],
   "source": [
    "boardSize = (10,10)   # Legt die Größe des Feldes fest\n",
    "timeSteps = 20 # Legt die Spieldauer fest (Anz. Iterationen)\n",
    "safeDist = 2\n",
    "netScaler = 1\n",
    "Layer1 = int(128*netScaler)\n",
    "Layer2 = int(256*netScaler)\n",
    "Layer3 = int(128*netScaler)"
   ]
  },
  {
   "cell_type": "code",
   "execution_count": null,
   "metadata": {},
   "outputs": [],
   "source": [
    "def showhist(hist):\n",
    "        for i in range(len(hist)):\n",
    "            h = hist[i].astype(np.int)\n",
    "            m = np.ones(boardSize)\n",
    "\n",
    "\n",
    "            m[h[4], h[5]] = 0.9 \n",
    "            m[h[6], h[7]] = 0.9\n",
    "            m[h[8], h[9]] = 0.9\n",
    "            m[h[10], h[11]] = 0.9\n",
    "            m[h[12], h[13]] = 0.9\n",
    "            m[h[14], h[15]] = 0.9\n",
    "            m[h[16], h[17]] = 0.9\n",
    "\n",
    "            #for j in range(0,7):\n",
    "            #    m[h[4+j],h[4+j+1]] = 0.9\n",
    "            m[h[0],h[1]] = 0\n",
    "            m[h[2],h[3]] = 0.5\n",
    "            print(\"Player: (\" + str(h[0]) +\",\" + str(h[1]) + \"), Aim: (\" + str(h[2]) + \",\" + str(h[3]) +\") \")\n",
    "            plt.imshow(m, cmap='hot', interpolation='nearest')\n",
    "            plt.show()\n",
    "            \n",
    "def showReward(h):\n",
    "    obstacles = [obstacle(7,5),\n",
    "                 obstacle(5,5),\n",
    "                 obstacle(3,5),\n",
    "                 obstacle(7,4),\n",
    "                 obstacle(6,6),\n",
    "                 obstacle(6,5),\n",
    "                 obstacle(6,4)\n",
    "    ]\n",
    "    m = np.zeros(boardSize)\n",
    "    for i in range(boardSize[0]):\n",
    "        for j in range(boardSize[1]):\n",
    "            m[i,j] , _= env.getRewardForField(i,j)\n",
    "            #m[8,8] = 100\n",
    "    return m.astype(np.int)\n",
    "\n",
    "\n"
   ]
  },
  {
   "cell_type": "code",
   "execution_count": 42,
   "metadata": {},
   "outputs": [],
   "source": [
    "class DeepQNetwork(nn.Module):\n",
    "    def __init__(self, ALPHA, input_dims, fc1_dims, fc2_dims, fc3_dims,\n",
    "                 n_actions):\n",
    "        super(DeepQNetwork, self).__init__()\n",
    "        self.input_dims = input_dims\n",
    "        self.fc1_dims = fc1_dims\n",
    "        self.fc2_dims = fc2_dims\n",
    "        self.fc3_dims = fc3_dims\n",
    "        self.n_actions = n_actions\n",
    "        self.fc1 = nn.Linear(*self.input_dims, self.fc1_dims)\n",
    "        self.fc2 = nn.Linear(self.fc1_dims, self.fc2_dims)\n",
    "        self.fc2s = nn.Linear(self.fc2_dims, self.fc3_dims)\n",
    "        self.fc3 = nn.Linear(self.fc3_dims, self.n_actions)\n",
    "        self.optimizer = optim.Adam(self.parameters(), lr=ALPHA)\n",
    "        #self.optimizer = optim.SGD(self.parameters(), lr=ALPHA, momentum=0.5)\n",
    "        self.loss = nn.MSELoss()\n",
    "        self.device = T.device('cuda:0' if T.cuda.is_available() else 'cpu')\n",
    "        self.to(self.device)\n",
    "\n",
    "    def forward(self, observation):\n",
    "        state = T.Tensor(observation).to(self.device)\n",
    "        #observation = observation.view(-1)\n",
    "        x = F.relu(self.fc1(state))\n",
    "        x = F.relu(self.fc2(x))\n",
    "        x = F.relu(self.fc2s(x))\n",
    "        actions = self.fc3(x)\n",
    "        return actions"
   ]
  },
  {
   "cell_type": "code",
   "execution_count": 43,
   "metadata": {},
   "outputs": [],
   "source": [
    "# Classes\n",
    "\n",
    "class player:\n",
    "    def __init__(self,gamma,epsilon, lr, input_dims, batch_size, n_actions,\n",
    "                 max_mem_size=10000, eps_end = 0.01, eps_dec=5e-6):\n",
    "        #self.x = x\n",
    "        #self.y = y\n",
    "        self.gamma = gamma\n",
    "        self.epsilon = epsilon\n",
    "        self.lr = lr\n",
    "        self.input_dims = input_dims\n",
    "        self.batch_size = batch_size\n",
    "        self.action_space = [i for i in range(n_actions)]\n",
    "        self.n_actions = n_actions\n",
    "        self.mem_size = max_mem_size\n",
    "        self.eps_end = eps_end\n",
    "        self.eps_dec = eps_dec\n",
    "        self.mem_cntr = 0\n",
    "        self.device = T.device('cuda:0' if T.cuda.is_available() else 'cuda:1')\n",
    "        self.Q_eval = DeepQNetwork(self.lr, n_actions=n_actions, input_dims=input_dims,\n",
    "                                  fc1_dims=Layer1, fc2_dims=Layer2,fc3_dims=Layer3)\n",
    "        \n",
    "        self.state_memory = np.zeros((self.mem_size, *input_dims))\n",
    "        self.new_state_memory = np.zeros((self.mem_size, *input_dims))\n",
    "        self.action_memory = np.zeros((self.mem_size, self.n_actions),\n",
    "                                      dtype=np.uint8)\n",
    "        self.reward_memory = np.zeros(self.mem_size)\n",
    "        self.terminal_memory = np.zeros(self.mem_size, dtype=np.uint8)\n",
    "        \n",
    "    def storeTransition(self, state, action, reward, state_, terminal):\n",
    "        index = self.mem_cntr % self.mem_size\n",
    "        self.state_memory[index] = state\n",
    "        actions = np.zeros(self.n_actions)\n",
    "        actions[action] = 1.0\n",
    "        self.action_memory[index] = actions\n",
    "        self.reward_memory[index] = reward\n",
    "        self.new_state_memory[index] = state_\n",
    "        self.terminal_memory[index] = 1 - terminal\n",
    "        self.mem_cntr += 1\n",
    "\n",
    "    def chooseAction(self, observation):\n",
    "        rand = np.random.random()\n",
    "        actions = self.Q_eval.forward(observation)\n",
    "        if rand > self.epsilon:\n",
    "            action = T.argmax(actions).item()\n",
    "        else:\n",
    "            action = np.random.choice(self.action_space)\n",
    "        return action\n",
    "        \n",
    "    def changeLR(self, lr):\n",
    "        self.lr = lr\n",
    "        \n",
    "    def learn(self):\n",
    "        if self.mem_cntr > self.batch_size:\n",
    "            self.Q_eval.optimizer.zero_grad()\n",
    "\n",
    "            max_mem = self.mem_cntr if self.mem_cntr < self.mem_size \\\n",
    "                                    else self.mem_size\n",
    "\n",
    "            batch = np.random.choice(max_mem, self.batch_size)\n",
    "            state_batch = self.state_memory[batch]\n",
    "            action_batch = self.action_memory[batch]\n",
    "            action_values = np.array(self.action_space, dtype=np.int32)\n",
    "            action_indices = np.dot(action_batch, action_values)\n",
    "            reward_batch = self.reward_memory[batch]\n",
    "            new_state_batch = self.new_state_memory[batch]\n",
    "            terminal_batch = self.terminal_memory[batch]\n",
    "\n",
    "            reward_batch = T.Tensor(reward_batch).to(self.Q_eval.device)\n",
    "            terminal_batch = T.Tensor(terminal_batch).to(self.Q_eval.device)\n",
    "\n",
    "            q_eval = self.Q_eval.forward(state_batch).to(self.Q_eval.device)\n",
    "            #q_target = self.Q_eval.forward(state_batch).to(self.Q_eval.device)\n",
    "            q_target = q_eval.clone()\n",
    "            q_next = self.Q_eval.forward(new_state_batch).to(self.Q_eval.device)\n",
    "\n",
    "            batch_index = np.arange(self.batch_size, dtype=np.int32)\n",
    "            q_target[batch_index, action_indices] = reward_batch + \\\n",
    "                                self.gamma*T.max(q_next, dim=1)[0]*terminal_batch\n",
    "\n",
    "            self.epsilon = self.epsilon*self.eps_dec if self.epsilon > \\\n",
    "                           self.eps_end else self.eps_end\n",
    "\n",
    "            loss = self.Q_eval.loss(q_target, q_eval).to(self.Q_eval.device)\n",
    "            loss.backward()\n",
    "            self.Q_eval.optimizer.step()\n",
    "        \n",
    "    #def move(self,dir):         # Wir können später gerne noch diagonale Bewegungen hinzufügen\n",
    "    #    if dir == \"up\":\n",
    "    #        if self.y +1 < boardSize[1]:\n",
    "    #            self.y +=1\n",
    "    #    if dir == \"down\":\n",
    "    #        if self.y -1 >= 0:\n",
    "    #            self.y -=1\n",
    "    #    if dir == \"right\":\n",
    "    #        if self.x +1 < boardSize[0]:\n",
    "    #            self.x +=1\n",
    "    #    if dir == \"left\":\n",
    "    #        if self.y -1 >= 0:\n",
    "    #            self.x -=1\n",
    "                \n",
    "            \n",
    "      \n",
    "    \n",
    "    \n",
    "    \n",
    "    \n",
    "    \n",
    "class aim:\n",
    "    def __init__(self,x,y):\n",
    "        self.x = x\n",
    "        self.y = y        \n",
    "        \n",
    "        \n",
    "class obstacle:\n",
    "    def __init__(self,x,y):\n",
    "        self.x = x\n",
    "        self.y = y "
   ]
  },
  {
   "cell_type": "code",
   "execution_count": 44,
   "metadata": {},
   "outputs": [],
   "source": [
    "class game:\n",
    "    def __init__(self,startPos, aimPos ,boardSize = (10,10)):\n",
    "        self.startPos = np.copy(startPos)\n",
    "        self.playerPos = startPos\n",
    "        self.aim = aim(aimPos[0],aimPos[1])\n",
    "        self.boardSize = boardSize\n",
    "        self.reward = 0\n",
    "        self.obstacles = [obstacle(7,5),\n",
    "                          obstacle(5,5),\n",
    "                          obstacle(3,5),\n",
    "                          obstacle(7,4),\n",
    "                          obstacle(6,6),\n",
    "                          obstacle(6,5),\n",
    "                          obstacle(6,4)\n",
    "    ]\n",
    "        \n",
    "        \n",
    "    def reset(self):\n",
    "        self.playerPos = self.startPos\n",
    "        #print(self.startPos)\n",
    "        #print(self.playerPos)\n",
    "        self.reward = 0\n",
    "        observ = np.zeros(18)\n",
    "        \n",
    "        observ[0] = self.playerPos[0]\n",
    "        observ[1] = self.playerPos[1]\n",
    "        observ[2] = self.aim.x\n",
    "        observ[3] = self.aim.y\n",
    "        observ[4] = self.obstacles[0].x\n",
    "        observ[5] = self.obstacles[0].y\n",
    "        observ[6] = self.obstacles[1].x\n",
    "        observ[7] = self.obstacles[1].y\n",
    "        observ[8] = self.obstacles[2].x\n",
    "        observ[9] = self.obstacles[2].y\n",
    "        observ[10] = self.obstacles[3].x\n",
    "        observ[11] = self.obstacles[3].y\n",
    "        observ[12] = self.obstacles[4].x\n",
    "        observ[13] = self.obstacles[4].y\n",
    "        observ[14] = self.obstacles[5].x\n",
    "        observ[15] = self.obstacles[5].y\n",
    "        observ[16] = self.obstacles[6].x\n",
    "        observ[17] = self.obstacles[6].y\n",
    "\n",
    "        \n",
    "        #print(observ)\n",
    "        return observ\n",
    "        \n",
    "        \n",
    "    def step(self, action):\n",
    "        done = False\n",
    "        \n",
    "        if(action==0):\n",
    "            self.playerPos[0] +=1\n",
    "        if(action==1):\n",
    "            self.playerPos[0] -=1\n",
    "        if(action==2):\n",
    "            self.playerPos[1] +=1\n",
    "        if(action==3):\n",
    "            self.playerPos[1] -=1\n",
    "        \n",
    "        #print(self.startPos)\n",
    "        observ = np.zeros(18)\n",
    "        \n",
    "        observ[0] = self.playerPos[0]\n",
    "        observ[1] = self.playerPos[1]\n",
    "        observ[2] = self.aim.x\n",
    "        observ[3] = self.aim.y\n",
    "        observ[4] = self.obstacles[0].x\n",
    "        observ[5] = self.obstacles[0].y\n",
    "        observ[6] = self.obstacles[1].x\n",
    "        observ[7] = self.obstacles[1].y\n",
    "        observ[8] = self.obstacles[2].x\n",
    "        observ[9] = self.obstacles[2].y\n",
    "        observ[10] = self.obstacles[3].x\n",
    "        observ[11] = self.obstacles[3].y\n",
    "        observ[12] = self.obstacles[4].x\n",
    "        observ[13] = self.obstacles[4].y\n",
    "        observ[14] = self.obstacles[5].x\n",
    "        observ[15] = self.obstacles[5].y\n",
    "        observ[16] = self.obstacles[6].x\n",
    "        observ[17] = self.obstacles[6].y\n",
    "\n",
    "        \n",
    "        \n",
    "        reward, done = self.getRewardForField(self.playerPos[0],self.playerPos[1])\n",
    "        \n",
    "        return observ, reward, done\n",
    "            \n",
    "            \n",
    "    def createMap(self,plot=False):\n",
    "        \n",
    "        m = np.ones(self.boardSize)\n",
    "        m[self.playerPos[0],self.playerPos[1]] = 0\n",
    "        m[self.aim.x,self.aim.y] = 0.5\n",
    "        for ob in self.obstacles:\n",
    "            m[ob.x,ob.y] = 0.9\n",
    "        if plot:\n",
    "            plt.imshow(m, cmap='hot', interpolation='nearest')\n",
    "            plt.show()\n",
    "        else:\n",
    "            return m\n",
    "    \n",
    "    def checkBounds(self,p):\n",
    "        if(p[0]<0):\n",
    "            return -100, True\n",
    "        if(p[1]<0):\n",
    "            return -100, True\n",
    "        if(p[0]>=boardSize[0]):\n",
    "            return -100, True\n",
    "        if(p[1]>=boardSize[1]):\n",
    "            return -100, True\n",
    "        return 0, False\n",
    "    \n",
    "    def distance(self, a, b,special=False):\n",
    "        #print(special)\n",
    "        if(special):\n",
    "            #b.x\n",
    "            return np.sqrt(np.square(a[0]-b.x)+np.square(a[1]-b.y))\n",
    "        else:\n",
    "            return np.sqrt(np.square(a.x-b.x)+np.square(a.y-b.y))\n",
    "    \n",
    "\n",
    "    def getRewardForField(self, x, y):  # Reward für alle Felder\n",
    "        done = False\n",
    "        pos = [x,y]\n",
    "        reward = 300\n",
    "        reward -= 100*1*(self.distance(pos,self.aim,special=True))\n",
    "        rew , done = self.checkBounds(pos)\n",
    "        reward += rew\n",
    "        for ob in self.obstacles:\n",
    "            reward -= 300*np.exp(-(self.distance(pos,ob,special=True)*safeDist))\n",
    "        if(x == self.aim.x and y == self.aim.y):\n",
    "            #print(\"AAAAA\")\n",
    "            reward =  5000\n",
    "            done = True\n",
    "        edgeControl = 400\n",
    "        if(pos[0]==0 or pos[0]== boardSize[0]-1):\n",
    "            reward -= edgeControl\n",
    "        if(pos[1]==0 or pos[1]== boardSize[1]-1):\n",
    "            reward -= edgeControl\n",
    "        return reward, done\n",
    "\n",
    "\n",
    "\n"
   ]
  },
  {
   "cell_type": "code",
   "execution_count": null,
   "metadata": {},
   "outputs": [],
   "source": []
  },
  {
   "cell_type": "code",
   "execution_count": 75,
   "metadata": {
    "scrolled": false
   },
   "outputs": [
    {
     "name": "stderr",
     "output_type": "stream",
     "text": [
      "  2%|▏         | 24/1000 [00:00<00:08, 119.06it/s]"
     ]
    },
    {
     "name": "stdout",
     "output_type": "stream",
     "text": [
      "episode  0 score -5440.68 average score -5440.68 epsilon 0.6000\n"
     ]
    },
    {
     "name": "stderr",
     "output_type": "stream",
     "text": [
      "  7%|▋         | 71/1000 [00:00<00:08, 112.39it/s]"
     ]
    },
    {
     "name": "stdout",
     "output_type": "stream",
     "text": [
      "episode  50 score -1933.11 average score -2193.69 epsilon 0.0500\n"
     ]
    },
    {
     "name": "stderr",
     "output_type": "stream",
     "text": [
      " 12%|█▏        | 115/1000 [00:01<00:08, 101.26it/s]"
     ]
    },
    {
     "name": "stdout",
     "output_type": "stream",
     "text": [
      "episode  100 score -1252.54 average score -1955.94 epsilon 0.0500\n"
     ]
    },
    {
     "name": "stderr",
     "output_type": "stream",
     "text": [
      " 17%|█▋        | 171/1000 [00:01<00:07, 103.86it/s]"
     ]
    },
    {
     "name": "stdout",
     "output_type": "stream",
     "text": [
      "episode  150 score -1458.39 average score -1534.99 epsilon 0.0500\n"
     ]
    },
    {
     "name": "stderr",
     "output_type": "stream",
     "text": [
      " 21%|██▏       | 213/1000 [00:02<00:08, 92.21it/s] "
     ]
    },
    {
     "name": "stdout",
     "output_type": "stream",
     "text": [
      "episode  200 score -1458.39 average score -1514.92 epsilon 0.0500\n"
     ]
    },
    {
     "name": "stderr",
     "output_type": "stream",
     "text": [
      " 26%|██▌       | 262/1000 [00:02<00:08, 89.32it/s]"
     ]
    },
    {
     "name": "stdout",
     "output_type": "stream",
     "text": [
      "episode  250 score -1458.39 average score -1477.44 epsilon 0.0500\n"
     ]
    },
    {
     "name": "stderr",
     "output_type": "stream",
     "text": [
      " 31%|███       | 308/1000 [00:03<00:08, 83.60it/s]"
     ]
    },
    {
     "name": "stdout",
     "output_type": "stream",
     "text": [
      "episode  300 score -2001.77 average score -1524.45 epsilon 0.0500\n"
     ]
    },
    {
     "name": "stderr",
     "output_type": "stream",
     "text": [
      " 36%|███▌      | 362/1000 [00:03<00:07, 85.46it/s]"
     ]
    },
    {
     "name": "stdout",
     "output_type": "stream",
     "text": [
      "episode  350 score -1458.39 average score -1541.72 epsilon 0.0500\n"
     ]
    },
    {
     "name": "stderr",
     "output_type": "stream",
     "text": [
      " 42%|████▏     | 416/1000 [00:04<00:07, 82.39it/s]"
     ]
    },
    {
     "name": "stdout",
     "output_type": "stream",
     "text": [
      "episode  400 score -1458.39 average score -1509.49 epsilon 0.0500\n"
     ]
    },
    {
     "name": "stderr",
     "output_type": "stream",
     "text": [
      " 46%|████▌     | 461/1000 [00:05<00:07, 73.23it/s]"
     ]
    },
    {
     "name": "stdout",
     "output_type": "stream",
     "text": [
      "episode  450 score -1458.39 average score -1503.23 epsilon 0.0500\n"
     ]
    },
    {
     "name": "stderr",
     "output_type": "stream",
     "text": [
      " 51%|█████     | 506/1000 [00:06<00:12, 38.63it/s]"
     ]
    },
    {
     "name": "stdout",
     "output_type": "stream",
     "text": [
      "episode  500 score -4051.83 average score -418.68 epsilon 0.0500\n"
     ]
    },
    {
     "name": "stderr",
     "output_type": "stream",
     "text": [
      " 56%|█████▌    | 558/1000 [00:07<00:12, 34.50it/s]"
     ]
    },
    {
     "name": "stdout",
     "output_type": "stream",
     "text": [
      "episode  550 score -3427.53 average score -777.14 epsilon 0.0500\n"
     ]
    },
    {
     "name": "stderr",
     "output_type": "stream",
     "text": [
      " 61%|██████    | 608/1000 [00:08<00:10, 37.49it/s]"
     ]
    },
    {
     "name": "stdout",
     "output_type": "stream",
     "text": [
      "episode  600 score -622.32 average score -742.53 epsilon 0.0500\n"
     ]
    },
    {
     "name": "stderr",
     "output_type": "stream",
     "text": [
      " 65%|██████▌   | 654/1000 [00:11<00:18, 18.29it/s]"
     ]
    },
    {
     "name": "stdout",
     "output_type": "stream",
     "text": [
      "episode  650 score -953.89 average score -1322.81 epsilon 0.0500\n"
     ]
    },
    {
     "name": "stderr",
     "output_type": "stream",
     "text": [
      " 70%|███████   | 703/1000 [00:13<00:21, 13.56it/s]"
     ]
    },
    {
     "name": "stdout",
     "output_type": "stream",
     "text": [
      "episode  700 score -7682.39 average score -2036.14 epsilon 0.0500\n"
     ]
    },
    {
     "name": "stderr",
     "output_type": "stream",
     "text": [
      " 72%|███████▏  | 722/1000 [00:15<00:05, 47.73it/s]\n"
     ]
    },
    {
     "ename": "KeyboardInterrupt",
     "evalue": "",
     "output_type": "error",
     "traceback": [
      "\u001b[0;31m---------------------------------------------------------------------------\u001b[0m",
      "\u001b[0;31mKeyboardInterrupt\u001b[0m                         Traceback (most recent call last)",
      "\u001b[0;32m<ipython-input-75-789cb28352f9>\u001b[0m in \u001b[0;36m<module>\u001b[0;34m\u001b[0m\n\u001b[1;32m     32\u001b[0m         \u001b[0mscore\u001b[0m \u001b[0;34m+=\u001b[0m \u001b[0mreward\u001b[0m\u001b[0;34m\u001b[0m\u001b[0;34m\u001b[0m\u001b[0m\n\u001b[1;32m     33\u001b[0m         \u001b[0mp\u001b[0m\u001b[0;34m.\u001b[0m\u001b[0mstoreTransition\u001b[0m\u001b[0;34m(\u001b[0m\u001b[0mobservation_\u001b[0m\u001b[0;34m,\u001b[0m \u001b[0maction\u001b[0m\u001b[0;34m,\u001b[0m \u001b[0mreward\u001b[0m\u001b[0;34m,\u001b[0m \u001b[0mobservation_\u001b[0m\u001b[0;34m,\u001b[0m \u001b[0mdone\u001b[0m\u001b[0;34m)\u001b[0m\u001b[0;34m\u001b[0m\u001b[0;34m\u001b[0m\u001b[0m\n\u001b[0;32m---> 34\u001b[0;31m         \u001b[0mp\u001b[0m\u001b[0;34m.\u001b[0m\u001b[0mlearn\u001b[0m\u001b[0;34m(\u001b[0m\u001b[0;34m)\u001b[0m\u001b[0;34m\u001b[0m\u001b[0;34m\u001b[0m\u001b[0m\n\u001b[0m\u001b[1;32m     35\u001b[0m         \u001b[0mobservation\u001b[0m \u001b[0;34m=\u001b[0m \u001b[0mobservation_\u001b[0m\u001b[0;34m\u001b[0m\u001b[0;34m\u001b[0m\u001b[0m\n\u001b[1;32m     36\u001b[0m \u001b[0;34m\u001b[0m\u001b[0m\n",
      "\u001b[0;32m<ipython-input-43-238dab5c9dfa>\u001b[0m in \u001b[0;36mlearn\u001b[0;34m(self)\u001b[0m\n\u001b[1;32m     84\u001b[0m             \u001b[0mloss\u001b[0m \u001b[0;34m=\u001b[0m \u001b[0mself\u001b[0m\u001b[0;34m.\u001b[0m\u001b[0mQ_eval\u001b[0m\u001b[0;34m.\u001b[0m\u001b[0mloss\u001b[0m\u001b[0;34m(\u001b[0m\u001b[0mq_target\u001b[0m\u001b[0;34m,\u001b[0m \u001b[0mq_eval\u001b[0m\u001b[0;34m)\u001b[0m\u001b[0;34m.\u001b[0m\u001b[0mto\u001b[0m\u001b[0;34m(\u001b[0m\u001b[0mself\u001b[0m\u001b[0;34m.\u001b[0m\u001b[0mQ_eval\u001b[0m\u001b[0;34m.\u001b[0m\u001b[0mdevice\u001b[0m\u001b[0;34m)\u001b[0m\u001b[0;34m\u001b[0m\u001b[0;34m\u001b[0m\u001b[0m\n\u001b[1;32m     85\u001b[0m             \u001b[0mloss\u001b[0m\u001b[0;34m.\u001b[0m\u001b[0mbackward\u001b[0m\u001b[0;34m(\u001b[0m\u001b[0;34m)\u001b[0m\u001b[0;34m\u001b[0m\u001b[0;34m\u001b[0m\u001b[0m\n\u001b[0;32m---> 86\u001b[0;31m             \u001b[0mself\u001b[0m\u001b[0;34m.\u001b[0m\u001b[0mQ_eval\u001b[0m\u001b[0;34m.\u001b[0m\u001b[0moptimizer\u001b[0m\u001b[0;34m.\u001b[0m\u001b[0mstep\u001b[0m\u001b[0;34m(\u001b[0m\u001b[0;34m)\u001b[0m\u001b[0;34m\u001b[0m\u001b[0;34m\u001b[0m\u001b[0m\n\u001b[0m\u001b[1;32m     87\u001b[0m \u001b[0;34m\u001b[0m\u001b[0m\n\u001b[1;32m     88\u001b[0m     \u001b[0;31m#def move(self,dir):         # Wir können später gerne noch diagonale Bewegungen hinzufügen\u001b[0m\u001b[0;34m\u001b[0m\u001b[0;34m\u001b[0m\u001b[0;34m\u001b[0m\u001b[0m\n",
      "\u001b[0;32m/Library/Frameworks/Python.framework/Versions/3.8/lib/python3.8/site-packages/torch/autograd/grad_mode.py\u001b[0m in \u001b[0;36mdecorate_context\u001b[0;34m(*args, **kwargs)\u001b[0m\n\u001b[1;32m     13\u001b[0m         \u001b[0;32mdef\u001b[0m \u001b[0mdecorate_context\u001b[0m\u001b[0;34m(\u001b[0m\u001b[0;34m*\u001b[0m\u001b[0margs\u001b[0m\u001b[0;34m,\u001b[0m \u001b[0;34m**\u001b[0m\u001b[0mkwargs\u001b[0m\u001b[0;34m)\u001b[0m\u001b[0;34m:\u001b[0m\u001b[0;34m\u001b[0m\u001b[0;34m\u001b[0m\u001b[0m\n\u001b[1;32m     14\u001b[0m             \u001b[0;32mwith\u001b[0m \u001b[0mself\u001b[0m\u001b[0;34m:\u001b[0m\u001b[0;34m\u001b[0m\u001b[0;34m\u001b[0m\u001b[0m\n\u001b[0;32m---> 15\u001b[0;31m                 \u001b[0;32mreturn\u001b[0m \u001b[0mfunc\u001b[0m\u001b[0;34m(\u001b[0m\u001b[0;34m*\u001b[0m\u001b[0margs\u001b[0m\u001b[0;34m,\u001b[0m \u001b[0;34m**\u001b[0m\u001b[0mkwargs\u001b[0m\u001b[0;34m)\u001b[0m\u001b[0;34m\u001b[0m\u001b[0;34m\u001b[0m\u001b[0m\n\u001b[0m\u001b[1;32m     16\u001b[0m         \u001b[0;32mreturn\u001b[0m \u001b[0mdecorate_context\u001b[0m\u001b[0;34m\u001b[0m\u001b[0;34m\u001b[0m\u001b[0m\n\u001b[1;32m     17\u001b[0m \u001b[0;34m\u001b[0m\u001b[0m\n",
      "\u001b[0;32m/Library/Frameworks/Python.framework/Versions/3.8/lib/python3.8/site-packages/torch/optim/adam.py\u001b[0m in \u001b[0;36mstep\u001b[0;34m(self, closure)\u001b[0m\n\u001b[1;32m     97\u001b[0m \u001b[0;34m\u001b[0m\u001b[0m\n\u001b[1;32m     98\u001b[0m                 \u001b[0;31m# Decay the first and second moment running average coefficient\u001b[0m\u001b[0;34m\u001b[0m\u001b[0;34m\u001b[0m\u001b[0;34m\u001b[0m\u001b[0m\n\u001b[0;32m---> 99\u001b[0;31m                 \u001b[0mexp_avg\u001b[0m\u001b[0;34m.\u001b[0m\u001b[0mmul_\u001b[0m\u001b[0;34m(\u001b[0m\u001b[0mbeta1\u001b[0m\u001b[0;34m)\u001b[0m\u001b[0;34m.\u001b[0m\u001b[0madd_\u001b[0m\u001b[0;34m(\u001b[0m\u001b[0mgrad\u001b[0m\u001b[0;34m,\u001b[0m \u001b[0malpha\u001b[0m\u001b[0;34m=\u001b[0m\u001b[0;36m1\u001b[0m \u001b[0;34m-\u001b[0m \u001b[0mbeta1\u001b[0m\u001b[0;34m)\u001b[0m\u001b[0;34m\u001b[0m\u001b[0;34m\u001b[0m\u001b[0m\n\u001b[0m\u001b[1;32m    100\u001b[0m                 \u001b[0mexp_avg_sq\u001b[0m\u001b[0;34m.\u001b[0m\u001b[0mmul_\u001b[0m\u001b[0;34m(\u001b[0m\u001b[0mbeta2\u001b[0m\u001b[0;34m)\u001b[0m\u001b[0;34m.\u001b[0m\u001b[0maddcmul_\u001b[0m\u001b[0;34m(\u001b[0m\u001b[0mgrad\u001b[0m\u001b[0;34m,\u001b[0m \u001b[0mgrad\u001b[0m\u001b[0;34m,\u001b[0m \u001b[0mvalue\u001b[0m\u001b[0;34m=\u001b[0m\u001b[0;36m1\u001b[0m \u001b[0;34m-\u001b[0m \u001b[0mbeta2\u001b[0m\u001b[0;34m)\u001b[0m\u001b[0;34m\u001b[0m\u001b[0;34m\u001b[0m\u001b[0m\n\u001b[1;32m    101\u001b[0m                 \u001b[0;32mif\u001b[0m \u001b[0mamsgrad\u001b[0m\u001b[0;34m:\u001b[0m\u001b[0;34m\u001b[0m\u001b[0;34m\u001b[0m\u001b[0m\n",
      "\u001b[0;31mKeyboardInterrupt\u001b[0m: "
     ]
    }
   ],
   "source": [
    "##### Here\n",
    "\n",
    "gameStates = np.zeros((timeSteps, boardSize[0],boardSize[1] ))\n",
    "#\n",
    "\n",
    "p = player(gamma=0.99,epsilon=0.6,batch_size=64, n_actions=4, eps_end =0.05, input_dims=[18], lr=0.01)\n",
    "scores, eps_hist = [], []\n",
    "n_games = 1000\n",
    "reached = 0\n",
    "MAX_ITER = 60\n",
    "prec = 20\n",
    "game_saver = []\n",
    "plot_scores = np.zeros(n_games)\n",
    "plot_avg_scores = []\n",
    "ChangedLR = True\n",
    "for i in tqdm(range(n_games)):\n",
    "    score = 0\n",
    "    done = False\n",
    "    env = game(np.array([3,3]),np.array([4,7]))\n",
    "    observation = env.reset()\n",
    "    save = []\n",
    "    \n",
    "    iteration = 0\n",
    "    while not done:\n",
    "        \n",
    "        #if i > n_games - 10:\n",
    "        save.append(observation)\n",
    "        action = p.chooseAction(observation=observation)\n",
    "        #print(action)\n",
    "        observation_, reward, done = env.step(action)\n",
    "        #print(reward)\n",
    "        score += reward\n",
    "        p.storeTransition(observation_, action, reward, observation_, done)\n",
    "        p.learn()\n",
    "        observation = observation_\n",
    "        \n",
    "        \n",
    "        iteration+=1\n",
    "        if iteration == MAX_ITER:\n",
    "            done = True\n",
    "            reward -= 1000\n",
    "    \n",
    "            \n",
    "    plot_scores[i] = score\n",
    "    scores.append(score)\n",
    "    game_saver.append(save)\n",
    "    avg_score = np.mean(scores[-(int(n_games/prec)):])\n",
    "    plot_avg_scores.append(avg_score)\n",
    "    if avg_score > 2000:\n",
    "        reached += 1\n",
    "        if ChangedLR:\n",
    "            if i > 400:\n",
    "                ChangedLR = False\n",
    "                print(\"Modified LR\")\n",
    "                p.changeLR(lr=0.00005)\n",
    "    if avg_score > 5000:\n",
    "        if i > 200:\n",
    "            i = n_games\n",
    "        \n",
    "        #print(\"Perfekt Learning\")\n",
    "    if((i-1) % (n_games/prec) == (n_games/prec)-1):\n",
    "        print(\"episode \", i, \"score %.2f\" % score,\n",
    "              \"average score %.2f\" % avg_score,\n",
    "              'epsilon %.4f' %p.epsilon)\n",
    "\n",
    "print(\"Prozent: \" + str((reached/n_games)))\n",
    "plt.plot(plot_scores)\n",
    "plt.show()\n",
    "plt.plot(plot_avg_scores)\n",
    "plt.show()\n",
    "print(showReward(game_saver[-1][0]))\n",
    "plt.imshow(showReward(game_saver[-1][0]), cmap='hot', interpolation='nearest')\n",
    "plt.show()\n"
   ]
  },
  {
   "cell_type": "code",
   "execution_count": 73,
   "metadata": {
    "scrolled": false
   },
   "outputs": [
    {
     "name": "stdout",
     "output_type": "stream",
     "text": [
      "Player: (3,3), Aim: (4,7) \n"
     ]
    },
    {
     "data": {
      "image/png": "[encoded data removed]",
      "text/plain": [
       "<Figure size 432x288 with 1 Axes>"
      ]
     },
     "metadata": {
      "needs_background": "light"
     },
     "output_type": "display_data"
    },
    {
     "name": "stdout",
     "output_type": "stream",
     "text": [
      "Player: (4,3), Aim: (4,7) \n"
     ]
    },
    {
     "data": {
      "image/png": "[encoded data removed]",
      "text/plain": [
       "<Figure size 432x288 with 1 Axes>"
      ]
     },
     "metadata": {
      "needs_background": "light"
     },
     "output_type": "display_data"
    },
    {
     "name": "stdout",
     "output_type": "stream",
     "text": [
      "Player: (4,4), Aim: (4,7) \n"
     ]
    },
    {
     "data": {
      "image/png": "[encoded data removed]",
      "text/plain": [
       "<Figure size 432x288 with 1 Axes>"
      ]
     },
     "metadata": {
      "needs_background": "light"
     },
     "output_type": "display_data"
    },
    {
     "name": "stdout",
     "output_type": "stream",
     "text": [
      "Player: (3,4), Aim: (4,7) \n"
     ]
    },
    {
     "data": {
      "image/png": "[encoded data removed]",
      "text/plain": [
       "<Figure size 432x288 with 1 Axes>"
      ]
     },
     "metadata": {
      "needs_background": "light"
     },
     "output_type": "display_data"
    },
    {
     "name": "stdout",
     "output_type": "stream",
     "text": [
      "Player: (3,5), Aim: (4,7) \n"
     ]
    },
    {
     "data": {
      "image/png": "[encoded data removed]",
      "text/plain": [
       "<Figure size 432x288 with 1 Axes>"
      ]
     },
     "metadata": {
      "needs_background": "light"
     },
     "output_type": "display_data"
    },
    {
     "name": "stdout",
     "output_type": "stream",
     "text": [
      "Player: (3,6), Aim: (4,7) \n"
     ]
    },
    {
     "data": {
      "image/png": "[encoded data removed]",
      "text/plain": [
       "<Figure size 432x288 with 1 Axes>"
      ]
     },
     "metadata": {
      "needs_background": "light"
     },
     "output_type": "display_data"
    },
    {
     "name": "stdout",
     "output_type": "stream",
     "text": [
      "Player: (3,5), Aim: (4,7) \n"
     ]
    },
    {
     "data": {
      "image/png": "[encoded data removed]",
      "text/plain": [
       "<Figure size 432x288 with 1 Axes>"
      ]
     },
     "metadata": {
      "needs_background": "light"
     },
     "output_type": "display_data"
    },
    {
     "name": "stdout",
     "output_type": "stream",
     "text": [
      "Player: (3,6), Aim: (4,7) \n"
     ]
    },
    {
     "data": {
      "image/png": "[encoded data removed]",
      "text/plain": [
       "<Figure size 432x288 with 1 Axes>"
      ]
     },
     "metadata": {
      "needs_background": "light"
     },
     "output_type": "display_data"
    },
    {
     "name": "stdout",
     "output_type": "stream",
     "text": [
      "Player: (2,6), Aim: (4,7) \n"
     ]
    },
    {
     "data": {
      "image/png": "[encoded data removed]",
      "text/plain": [
       "<Figure size 432x288 with 1 Axes>"
      ]
     },
     "metadata": {
      "needs_background": "light"
     },
     "output_type": "display_data"
    },
    {
     "name": "stdout",
     "output_type": "stream",
     "text": [
      "Player: (2,7), Aim: (4,7) \n"
     ]
    },
    {
     "data": {
      "image/png": "[encoded data removed]",
      "text/plain": [
       "<Figure size 432x288 with 1 Axes>"
      ]
     },
     "metadata": {
      "needs_background": "light"
     },
     "output_type": "display_data"
    },
    {
     "name": "stdout",
     "output_type": "stream",
     "text": [
      "Player: (2,8), Aim: (4,7) \n"
     ]
    },
    {
     "data": {
      "image/png": "[encoded data removed]",
      "text/plain": [
       "<Figure size 432x288 with 1 Axes>"
      ]
     },
     "metadata": {
      "needs_background": "light"
     },
     "output_type": "display_data"
    },
    {
     "name": "stdout",
     "output_type": "stream",
     "text": [
      "Player: (2,9), Aim: (4,7) \n"
     ]
    },
    {
     "data": {
      "image/png": "[encoded data removed]",
      "text/plain": [
       "<Figure size 432x288 with 1 Axes>"
      ]
     },
     "metadata": {
      "needs_background": "light"
     },
     "output_type": "display_data"
    },
    {
     "name": "stdout",
     "output_type": "stream",
     "text": [
      "Player: (2,8), Aim: (4,7) \n"
     ]
    },
    {
     "data": {
      "image/png": "[encoded data removed]",
      "text/plain": [
       "<Figure size 432x288 with 1 Axes>"
      ]
     },
     "metadata": {
      "needs_background": "light"
     },
     "output_type": "display_data"
    },
    {
     "name": "stdout",
     "output_type": "stream",
     "text": [
      "Player: (3,8), Aim: (4,7) \n"
     ]
    },
    {
     "data": {
      "image/png": "[encoded data removed]",
      "text/plain": [
       "<Figure size 432x288 with 1 Axes>"
      ]
     },
     "metadata": {
      "needs_background": "light"
     },
     "output_type": "display_data"
    },
    {
     "name": "stdout",
     "output_type": "stream",
     "text": [
      "Player: (3,7), Aim: (4,7) \n"
     ]
    },
    {
     "data": {
      "image/png": "[encoded data removed]",
      "text/plain": [
       "<Figure size 432x288 with 1 Axes>"
      ]
     },
     "metadata": {
      "needs_background": "light"
     },
     "output_type": "display_data"
    },
    {
     "name": "stdout",
     "output_type": "stream",
     "text": [
      "Player: (3,6), Aim: (4,7) \n"
     ]
    },
    {
     "data": {
      "image/png": "[encoded data removed]",
      "text/plain": [
       "<Figure size 432x288 with 1 Axes>"
      ]
     },
     "metadata": {
      "needs_background": "light"
     },
     "output_type": "display_data"
    },
    {
     "name": "stdout",
     "output_type": "stream",
     "text": [
      "Player: (3,7), Aim: (4,7) \n"
     ]
    },
    {
     "data": {
      "image/png": "[encoded data removed]",
      "text/plain": [
       "<Figure size 432x288 with 1 Axes>"
      ]
     },
     "metadata": {
      "needs_background": "light"
     },
     "output_type": "display_data"
    },
    {
     "name": "stdout",
     "output_type": "stream",
     "text": [
      "Player: (3,8), Aim: (4,7) \n"
     ]
    },
    {
     "data": {
      "image/png": "[encoded data removed]",
      "text/plain": [
       "<Figure size 432x288 with 1 Axes>"
      ]
     },
     "metadata": {
      "needs_background": "light"
     },
     "output_type": "display_data"
    },
    {
     "name": "stdout",
     "output_type": "stream",
     "text": [
      "Player: (3,9), Aim: (4,7) \n"
     ]
    },
    {
     "data": {
      "image/png": "[encoded data removed]",
      "text/plain": [
       "<Figure size 432x288 with 1 Axes>"
      ]
     },
     "metadata": {
      "needs_background": "light"
     },
     "output_type": "display_data"
    },
    {
     "name": "stdout",
     "output_type": "stream",
     "text": [
      "Player: (3,8), Aim: (4,7) \n"
     ]
    },
    {
     "data": {
      "image/png": "[encoded data removed]",
      "text/plain": [
       "<Figure size 432x288 with 1 Axes>"
      ]
     },
     "metadata": {
      "needs_background": "light"
     },
     "output_type": "display_data"
    },
    {
     "name": "stdout",
     "output_type": "stream",
     "text": [
      "Player: (3,7), Aim: (4,7) \n"
     ]
    },
    {
     "data": {
      "image/png": "[encoded data removed]",
      "text/plain": [
       "<Figure size 432x288 with 1 Axes>"
      ]
     },
     "metadata": {
      "needs_background": "light"
     },
     "output_type": "display_data"
    },
    {
     "name": "stdout",
     "output_type": "stream",
     "text": [
      "Player: (3,6), Aim: (4,7) \n"
     ]
    },
    {
     "data": {
      "image/png": "[encoded data removed]",
      "text/plain": [
       "<Figure size 432x288 with 1 Axes>"
      ]
     },
     "metadata": {
      "needs_background": "light"
     },
     "output_type": "display_data"
    },
    {
     "name": "stdout",
     "output_type": "stream",
     "text": [
      "Player: (3,5), Aim: (4,7) \n"
     ]
    },
    {
     "data": {
      "image/png": "[encoded data removed]",
      "text/plain": [
       "<Figure size 432x288 with 1 Axes>"
      ]
     },
     "metadata": {
      "needs_background": "light"
     },
     "output_type": "display_data"
    },
    {
     "name": "stdout",
     "output_type": "stream",
     "text": [
      "Player: (3,6), Aim: (4,7) \n"
     ]
    },
    {
     "data": {
      "image/png": "[encoded data removed]",
      "text/plain": [
       "<Figure size 432x288 with 1 Axes>"
      ]
     },
     "metadata": {
      "needs_background": "light"
     },
     "output_type": "display_data"
    },
    {
     "name": "stdout",
     "output_type": "stream",
     "text": [
      "Player: (3,7), Aim: (4,7) \n"
     ]
    },
    {
     "data": {
      "image/png": "[encoded data removed]",
      "text/plain": [
       "<Figure size 432x288 with 1 Axes>"
      ]
     },
     "metadata": {
      "needs_background": "light"
     },
     "output_type": "display_data"
    },
    {
     "name": "stdout",
     "output_type": "stream",
     "text": [
      "Player: (3,6), Aim: (4,7) \n"
     ]
    },
    {
     "data": {
      "image/png": "[encoded data removed]",
      "text/plain": [
       "<Figure size 432x288 with 1 Axes>"
      ]
     },
     "metadata": {
      "needs_background": "light"
     },
     "output_type": "display_data"
    },
    {
     "name": "stdout",
     "output_type": "stream",
     "text": [
      "Player: (3,7), Aim: (4,7) \n"
     ]
    },
    {
     "data": {
      "image/png": "[encoded data removed]",
      "text/plain": [
       "<Figure size 432x288 with 1 Axes>"
      ]
     },
     "metadata": {
      "needs_background": "light"
     },
     "output_type": "display_data"
    },
    {
     "name": "stdout",
     "output_type": "stream",
     "text": [
      "Player: (3,8), Aim: (4,7) \n"
     ]
    },
    {
     "data": {
      "image/png": "[encoded data removed]",
      "text/plain": [
       "<Figure size 432x288 with 1 Axes>"
      ]
     },
     "metadata": {
      "needs_background": "light"
     },
     "output_type": "display_data"
    },
    {
     "name": "stdout",
     "output_type": "stream",
     "text": [
      "Player: (3,9), Aim: (4,7) \n"
     ]
    },
    {
     "data": {
      "image/png": "[encoded data removed]",
      "text/plain": [
       "<Figure size 432x288 with 1 Axes>"
      ]
     },
     "metadata": {
      "needs_background": "light"
     },
     "output_type": "display_data"
    },
    {
     "name": "stdout",
     "output_type": "stream",
     "text": [
      "Player: (3,8), Aim: (4,7) \n"
     ]
    },
    {
     "data": {
      "image/png": "[encoded data removed]",
      "text/plain": [
       "<Figure size 432x288 with 1 Axes>"
      ]
     },
     "metadata": {
      "needs_background": "light"
     },
     "output_type": "display_data"
    },
    {
     "name": "stdout",
     "output_type": "stream",
     "text": [
      "Player: (3,7), Aim: (4,7) \n"
     ]
    },
    {
     "data": {
      "image/png": "[encoded data removed]",
      "text/plain": [
       "<Figure size 432x288 with 1 Axes>"
      ]
     },
     "metadata": {
      "needs_background": "light"
     },
     "output_type": "display_data"
    }
   ],
   "source": [
    "showhist(game_saver[-2])"
   ]
  },
  {
   "cell_type": "code",
   "execution_count": null,
   "metadata": {},
   "outputs": [],
   "source": []
  },
  {
   "cell_type": "code",
   "execution_count": null,
   "metadata": {},
   "outputs": [],
   "source": []
  },
  {
   "cell_type": "code",
   "execution_count": null,
   "metadata": {},
   "outputs": [],
   "source": []
  }
 ],
 "metadata": {
  "kernelspec": {
   "display_name": "Python 3",
   "language": "python",
   "name": "python3"
  }
 },
 "nbformat": 4,
 "nbformat_minor": 2
}

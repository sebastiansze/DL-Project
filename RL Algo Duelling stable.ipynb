{
 "cells": [
  {
   "cell_type": "code",
   "execution_count": 1,
   "metadata": {},
   "outputs": [],
   "source": [
    "import numpy as np\n",
    "import matplotlib.pyplot as plt\n",
    "import os\n",
    "import torch.optim as optim\n",
    "import torch.nn as nn\n",
    "import torch.nn.functional as F\n",
    "import torch as T\n",
    "from tqdm import tqdm\n",
    "\n",
    "\n",
    "import warnings\n",
    "warnings.filterwarnings(\"ignore\", category=UserWarning)"
   ]
  },
  {
   "cell_type": "code",
   "execution_count": 18,
   "metadata": {},
   "outputs": [],
   "source": [
    "boardSize = (15,15)   # Legt die Größe des Feldes fest\n",
    "timeSteps = 20 # Legt die Spieldauer fest (Anz. Iterationen)\n",
    "safeDist = 3\n",
    "netScaler = 1\n",
    "Layer1 = int(128*netScaler)\n",
    "Layer2 = int(256*netScaler)\n",
    "Layer3 = int(128*netScaler)"
   ]
  },
  {
   "cell_type": "code",
   "execution_count": null,
   "metadata": {},
   "outputs": [],
   "source": []
  },
  {
   "cell_type": "code",
   "execution_count": 3,
   "metadata": {},
   "outputs": [],
   "source": [
    "def showhist(hist):\n",
    "        for i in range(len(hist)):\n",
    "            #print(hist[int(i)])\n",
    "            if all(elm < boardSize[0] for elm in hist[int(i)]):\n",
    "                h = hist[i].astype(np.int)\n",
    "                m = np.ones(boardSize)\n",
    "\n",
    "\n",
    "                m[h[4], h[5]] = 0.9 \n",
    "                m[h[6], h[7]] = 0.9\n",
    "                m[h[8], h[9]] = 0.9\n",
    "                m[h[10], h[11]] = 0.9\n",
    "                m[h[12], h[13]] = 0.9\n",
    "                m[h[14], h[15]] = 0.9\n",
    "                m[h[16], h[17]] = 0.9\n",
    "\n",
    "                #for j in range(0,7):\n",
    "                #    m[h[4+j],h[4+j+1]] = 0.9\n",
    "                m[h[0],h[1]] = 0\n",
    "                m[h[2],h[3]] = 0.5\n",
    "                print(\"Player: (\" + str(h[0]) +\",\" + str(h[1]) + \"), Aim: (\" + str(h[2]) + \",\" + str(h[3]) +\") \")\n",
    "                plt.imshow(m, cmap='hot', interpolation='nearest')\n",
    "                plt.show()\n",
    "\n",
    "def showhist_map(hist):\n",
    "        for i in range(len(hist)):\n",
    "            #print(hist[int(i)])\n",
    "            if all(elm < boardSize[0] for elm in hist[int(i)]):\n",
    "                h = hist[i].astype(np.int)\n",
    "                \n",
    "                #print(\"Player: (\" + str(h[0]) +\",\" + str(h[1]) + \"), Aim: (\" + str(h[2]) + \",\" + str(h[3]) +\") \")\n",
    "                print(\"MIN:\" + str(np.max(hist[i])) + \" \" + str(np.min(hist[i])))\n",
    "                plt.imshow(hist[i].reshape(boardSize[0], boardSize[1]), cmap='hot', interpolation='nearest')\n",
    "                plt.show()\n",
    "                \n",
    "                \n",
    "            \n",
    "def showReward(h):\n",
    "    obstacles = [obstacle(7,5),\n",
    "                 obstacle(5,5),\n",
    "                 obstacle(3,5),\n",
    "                 obstacle(7,4),\n",
    "                 obstacle(6,6),\n",
    "                 obstacle(6,5),\n",
    "                 obstacle(6,4)\n",
    "    ]\n",
    "    print(str(h[2])+ \" \" +str(h[3]))\n",
    "    m = np.zeros(boardSize)\n",
    "    for i in range(boardSize[0]):\n",
    "        for j in range(boardSize[1]):\n",
    "            m[i,j] , _= env.getRewardForField(i,j)\n",
    "            if(m[i,j] > 30):\n",
    "                m[i,j] = 10\n",
    "    \n",
    "    return m.astype(np.int)\n",
    "\n",
    "\n",
    "\n"
   ]
  },
  {
   "cell_type": "code",
   "execution_count": null,
   "metadata": {},
   "outputs": [],
   "source": []
  },
  {
   "cell_type": "code",
   "execution_count": 4,
   "metadata": {},
   "outputs": [],
   "source": [
    "class ReplayBuffer():\n",
    "    def __init__(self, max_size, input_shape):\n",
    "        self.mem_size = max_size\n",
    "        self.mem_cntr = 0\n",
    "        self.state_memory = np.zeros((self.mem_size, *input_shape),\n",
    "                                    dtype=np.float32)\n",
    "        self.new_state_memory = np.zeros((self.mem_size, *input_shape),\n",
    "                                        dtype=np.float32)\n",
    "        self.action_memory = np.zeros(self.mem_size, dtype=np.int64)\n",
    "        self.reward_memory = np.zeros(self.mem_size, dtype=np.float32)\n",
    "        self.terminal_memory = np.zeros(self.mem_size, dtype=np.uint8)\n",
    "\n",
    "    def store_transition(self, state, action, reward, state_, done):\n",
    "        index = self.mem_cntr % self.mem_size\n",
    "        self.state_memory[index] = state\n",
    "        self.new_state_memory[index] = state_\n",
    "        self.action_memory[index] = action\n",
    "        self.reward_memory[index] = reward\n",
    "        self.terminal_memory[index] = done\n",
    "        self.mem_cntr += 1\n",
    "\n",
    "    def sample_buffer(self, batch_size):\n",
    "        max_mem = min(self.mem_cntr, self.mem_size)\n",
    "        batch = np.random.choice(max_mem, batch_size, replace=False)\n",
    "\n",
    "        states = self.state_memory[batch]\n",
    "        actions = self.action_memory[batch]\n",
    "        rewards = self.reward_memory[batch]\n",
    "        states_ = self.new_state_memory[batch]\n",
    "        terminal = self.terminal_memory[batch]\n",
    "\n",
    "        return states, actions, rewards, states_, terminal"
   ]
  },
  {
   "cell_type": "code",
   "execution_count": 5,
   "metadata": {},
   "outputs": [],
   "source": [
    "class DuelingLinearDeepQNetwork(nn.Module):\n",
    "    def __init__(self, ALPHA, n_actions, name, input_dims, chkpt_dir=''):\n",
    "        super(DuelingLinearDeepQNetwork, self).__init__()\n",
    "\n",
    "        self.fc1 = nn.Linear(*input_dims, 256)\n",
    "        self.fc2 = nn.Linear(256, 512)\n",
    "        self.fc3 = nn.Linear(512,128)\n",
    "        self.V = nn.Linear(128, 1)\n",
    "        self.A = nn.Linear(128, n_actions)\n",
    "\n",
    "        self.optimizer = optim.Adam(self.parameters(), lr=ALPHA)\n",
    "        self.loss = nn.MSELoss()\n",
    "        self.device = T.device('cuda:0' if T.cuda.is_available() else 'cpu')\n",
    "        self.to(self.device)\n",
    "        self.checkpoint_dir = chkpt_dir\n",
    "        self.checkpoint_file = os.path.join(self.checkpoint_dir, name+'_dqn')\n",
    "\n",
    "    def forward(self, state):\n",
    "        l1 = F.relu(self.fc1(state))\n",
    "        l2 = F.relu(self.fc2(l1))\n",
    "        l3 = F.relu(self.fc3(l2))\n",
    "        V = self.V(l3)\n",
    "        A = self.A(l3)\n",
    "\n",
    "        return V, A\n",
    "\n",
    "    def save_checkpoint(self):\n",
    "        #print('... saving checkpoint ...')\n",
    "        T.save(self.state_dict(), self.checkpoint_file)\n",
    "\n",
    "    def load_checkpoint(self):\n",
    "        #print('... loading checkpoint ...')\n",
    "        self.load_state_dict(T.load(self.checkpoint_file))"
   ]
  },
  {
   "cell_type": "code",
   "execution_count": 6,
   "metadata": {},
   "outputs": [],
   "source": [
    "class Agent():\n",
    "    def __init__(self, gamma, epsilon, lr, n_actions, input_dims,\n",
    "                 mem_size, batch_size, eps_min=0.01, eps_dec=5e-7,\n",
    "                 replace=1000, chkpt_dir=''):\n",
    "        self.gamma = gamma\n",
    "        self.epsilon = epsilon\n",
    "        self.lr = lr\n",
    "        self.n_actions = n_actions\n",
    "        self.input_dims = input_dims\n",
    "        self.batch_size = batch_size\n",
    "        self.eps_min = eps_min\n",
    "        self.eps_dec = eps_dec\n",
    "        self.replace_target_cnt = replace\n",
    "        self.chkpt_dir = chkpt_dir\n",
    "        self.action_space = [i for i in range(self.n_actions)]\n",
    "        self.learn_step_counter = 0\n",
    "        print(mem_size)\n",
    "        print(input_dims)\n",
    "        print(n_actions)\n",
    "        self.memory = ReplayBuffer(mem_size, input_dims)\n",
    "\n",
    "        self.q_eval = DuelingLinearDeepQNetwork(self.lr, self.n_actions,\n",
    "                                   input_dims=self.input_dims,\n",
    "                                   name='model',\n",
    "                                   chkpt_dir=self.chkpt_dir)\n",
    "\n",
    "        self.q_next = DuelingLinearDeepQNetwork(self.lr, self.n_actions,\n",
    "                                   input_dims=self.input_dims,\n",
    "                                   name='model_next',\n",
    "                                   chkpt_dir=self.chkpt_dir)\n",
    "\n",
    "    def choose_action(self, observation):\n",
    "        if np.random.random() > self.epsilon:\n",
    "            state = T.tensor([observation],dtype=T.float).to(self.q_eval.device)\n",
    "            _, advantage = self.q_eval.forward(state)\n",
    "            action = T.argmax(advantage).item()\n",
    "        else:\n",
    "            action = np.random.choice(self.action_space)\n",
    "\n",
    "        return action\n",
    "\n",
    "    def store_transition(self, state, action, reward, state_, done):\n",
    "        self.memory.store_transition(state, action, reward, state_, done)\n",
    "\n",
    "    def replace_target_network(self):\n",
    "        if self.learn_step_counter % self.replace_target_cnt == 0:\n",
    "            self.q_next.load_state_dict(self.q_eval.state_dict())\n",
    "\n",
    "    def decrement_epsilon(self):\n",
    "        self.epsilon = self.epsilon - self.eps_dec \\\n",
    "                        if self.epsilon > self.eps_min else self.eps_min\n",
    "\n",
    "    def save_models(self):\n",
    "        self.q_eval.save_checkpoint()\n",
    "        self.q_next.save_checkpoint()\n",
    "\n",
    "    def load_models(self):\n",
    "        self.q_eval.load_checkpoint()\n",
    "        self.q_next.load_checkpoint()\n",
    "\n",
    "    def learn(self):\n",
    "        if self.memory.mem_cntr < self.batch_size:\n",
    "            return\n",
    "\n",
    "        self.q_eval.optimizer.zero_grad()\n",
    "\n",
    "        self.replace_target_network()\n",
    "\n",
    "        state, action, reward, new_state, done = \\\n",
    "                                self.memory.sample_buffer(self.batch_size)\n",
    "\n",
    "        states = T.tensor(state).to(self.q_eval.device)\n",
    "        rewards = T.tensor(reward).to(self.q_eval.device)\n",
    "        dones = T.tensor(done).to(self.q_eval.device)\n",
    "        actions = T.tensor(action).to(self.q_eval.device)\n",
    "        states_ = T.tensor(new_state).to(self.q_eval.device)\n",
    "\n",
    "        indices = np.arange(self.batch_size)\n",
    "\n",
    "        V_s, A_s = self.q_eval.forward(states)\n",
    "        V_s_, A_s_ = self.q_next.forward(states_)\n",
    "\n",
    "        V_s_eval, A_s_eval = self.q_eval.forward(states_)\n",
    "\n",
    "        q_pred = T.add(V_s,\n",
    "                        (A_s - A_s.mean(dim=1, keepdim=True)))[indices, actions]\n",
    "        q_next = T.add(V_s_,\n",
    "                        (A_s_ - A_s_.mean(dim=1, keepdim=True)))\n",
    "\n",
    "        q_eval = T.add(V_s_eval, (A_s_eval - A_s_eval.mean(dim=1,keepdim=True)))\n",
    "\n",
    "        max_actions = T.argmax(q_eval, dim=1)\n",
    "\n",
    "        q_next[dones] = 0.0\n",
    "        q_target = rewards + self.gamma*q_next[indices, max_actions]\n",
    "\n",
    "        loss = self.q_eval.loss(q_target, q_pred).to(self.q_eval.device)\n",
    "        loss.backward()\n",
    "        self.q_eval.optimizer.step()\n",
    "        self.learn_step_counter += 1\n",
    "\n",
    "        self.decrement_epsilon()"
   ]
  },
  {
   "cell_type": "code",
   "execution_count": 7,
   "metadata": {},
   "outputs": [],
   "source": [
    "# Classes\n",
    "\n",
    "class player:\n",
    "    def __init__(self,gamma,epsilon, lr, input_dims, batch_size, n_actions,\n",
    "                 max_mem_size=10000, eps_end = 0.01, eps_dec=5e-6):\n",
    "        #self.x = x\n",
    "        #self.y = y\n",
    "        self.gamma = gamma\n",
    "        self.epsilon = epsilon\n",
    "        self.lr = lr\n",
    "        self.input_dims = input_dims\n",
    "        self.batch_size = batch_size\n",
    "        self.action_space = [i for i in range(n_actions)]\n",
    "        self.n_actions = n_actions\n",
    "        self.mem_size = max_mem_size\n",
    "        self.eps_end = eps_end\n",
    "        self.eps_dec = eps_dec\n",
    "        self.mem_cntr = 0\n",
    "        self.device = T.device('cuda:0' if T.cuda.is_available() else 'cuda:1')\n",
    "        self.Q_eval = DeepQNetwork(self.lr, n_actions=n_actions, input_dims=input_dims,\n",
    "                                  fc1_dims=Layer1, fc2_dims=Layer2,fc3_dims=Layer3)\n",
    "        \n",
    "        self.state_memory = np.zeros((self.mem_size, *input_dims))\n",
    "        self.new_state_memory = np.zeros((self.mem_size, *input_dims))\n",
    "        self.action_memory = np.zeros((self.mem_size, self.n_actions),\n",
    "                                      dtype=np.uint8)\n",
    "        self.reward_memory = np.zeros(self.mem_size)\n",
    "        self.terminal_memory = np.zeros(self.mem_size, dtype=np.uint8)\n",
    "        \n",
    "    def storeTransition(self, state, action, reward, state_, terminal):\n",
    "        index = self.mem_cntr % self.mem_size\n",
    "        self.state_memory[index] = state\n",
    "        actions = np.zeros(self.n_actions)\n",
    "        actions[action] = 1.0\n",
    "        self.action_memory[index] = actions\n",
    "        self.reward_memory[index] = reward\n",
    "        self.new_state_memory[index] = state_\n",
    "        self.terminal_memory[index] = 1 - terminal\n",
    "        self.mem_cntr += 1\n",
    "\n",
    "    def chooseAction(self, observation):\n",
    "        rand = np.random.random()\n",
    "        actions = self.Q_eval.forward(observation)\n",
    "        if rand > self.epsilon:\n",
    "            action = T.argmax(actions).item()\n",
    "        else:\n",
    "            action = np.random.choice(self.action_space)\n",
    "        return action\n",
    "        \n",
    "    def changeLR(self, lr):\n",
    "        self.lr = lr\n",
    "        \n",
    "    def learn(self):\n",
    "        if self.mem_cntr > self.batch_size:\n",
    "            self.Q_eval.optimizer.zero_grad()\n",
    "\n",
    "            max_mem = self.mem_cntr if self.mem_cntr < self.mem_size \\\n",
    "                                    else self.mem_size\n",
    "\n",
    "            batch = np.random.choice(max_mem, self.batch_size)\n",
    "            state_batch = self.state_memory[batch]\n",
    "            action_batch = self.action_memory[batch]\n",
    "            action_values = np.array(self.action_space, dtype=np.int32)\n",
    "            action_indices = np.dot(action_batch, action_values)\n",
    "            reward_batch = self.reward_memory[batch]\n",
    "            new_state_batch = self.new_state_memory[batch]\n",
    "            terminal_batch = self.terminal_memory[batch]\n",
    "\n",
    "            reward_batch = T.Tensor(reward_batch).to(self.Q_eval.device)\n",
    "            terminal_batch = T.Tensor(terminal_batch).to(self.Q_eval.device)\n",
    "\n",
    "            q_eval = self.Q_eval.forward(state_batch).to(self.Q_eval.device)\n",
    "            #q_target = self.Q_eval.forward(state_batch).to(self.Q_eval.device)\n",
    "            q_target = q_eval.clone()\n",
    "            q_next = self.Q_eval.forward(new_state_batch).to(self.Q_eval.device)\n",
    "\n",
    "            batch_index = np.arange(self.batch_size, dtype=np.int32)\n",
    "            q_target[batch_index, action_indices] = reward_batch + \\\n",
    "                                self.gamma*T.max(q_next, dim=1)[0]*terminal_batch\n",
    "\n",
    "            self.epsilon = self.epsilon*self.eps_dec if self.epsilon > \\\n",
    "                           self.eps_end else self.eps_end\n",
    "\n",
    "            loss = self.Q_eval.loss(q_target, q_eval).to(self.Q_eval.device)\n",
    "            loss.backward()\n",
    "            self.Q_eval.optimizer.step()\n",
    "            \n",
    "\n",
    "    \n",
    "    \n",
    "    \n",
    "    \n",
    "    \n",
    "class aim:\n",
    "    def __init__(self,x,y):\n",
    "        self.x = x\n",
    "        self.y = y        \n",
    "        \n",
    "        \n",
    "class obstacle:\n",
    "    def __init__(self,x,y):\n",
    "        self.x = x\n",
    "        self.y = y "
   ]
  },
  {
   "cell_type": "code",
   "execution_count": 19,
   "metadata": {},
   "outputs": [],
   "source": [
    "class game:\n",
    "    def __init__(self,startPos, aimPos ,boardSize = boardSize ):\n",
    "        self.startPos = np.copy(startPos)\n",
    "        self.playerPos = startPos\n",
    "        self.aim = aim(aimPos[0],aimPos[1])\n",
    "        self.boardSize = boardSize\n",
    "        self.reward = 0\n",
    "        self.obstacles = [obstacle(7,5),\n",
    "                          obstacle(5,5),\n",
    "                          obstacle(3,5),\n",
    "                          obstacle(7,4),\n",
    "                          obstacle(6,6),\n",
    "                          obstacle(6,5),\n",
    "                          obstacle(6,4)\n",
    "    ]\n",
    "        \n",
    "        \n",
    "    def reset(self):\n",
    "        self.playerPos = self.startPos\n",
    "        #print(self.startPos)\n",
    "        #print(self.playerPos)\n",
    "        self.reward = 0\n",
    "        #observ = np.zeros(18)\n",
    "        #\n",
    "        #observ[0] = self.playerPos[0]\n",
    "        #observ[1] = self.playerPos[1]\n",
    "        #observ[2] = self.aim.x\n",
    "        #observ[3] = self.aim.y\n",
    "        #observ[4] = self.obstacles[0].x\n",
    "        #observ[5] = self.obstacles[0].y\n",
    "        #observ[6] = self.obstacles[1].x\n",
    "        #observ[7] = self.obstacles[1].y\n",
    "        #observ[8] = self.obstacles[2].x\n",
    "        #observ[9] = self.obstacles[2].y\n",
    "        #observ[10] = self.obstacles[3].x\n",
    "        #observ[11] = self.obstacles[3].y\n",
    "        #observ[12] = self.obstacles[4].x\n",
    "        #observ[13] = self.obstacles[4].y\n",
    "        #observ[14] = self.obstacles[5].x\n",
    "        #observ[15] = self.obstacles[5].y\n",
    "        #observ[16] = self.obstacles[6].x\n",
    "        #observ[17] = self.obstacles[6].y\n",
    "        observ = self.createMap().reshape(boardSize[0]*boardSize[1])\n",
    "        \n",
    "        #print(observ)\n",
    "        return observ\n",
    "        \n",
    "        \n",
    "    def step(self, action):\n",
    "        done = False\n",
    "        \n",
    "        if(action==0):\n",
    "            self.playerPos[0] +=1\n",
    "        if(action==1):\n",
    "            self.playerPos[0] -=1\n",
    "        if(action==2):\n",
    "            self.playerPos[1] +=1\n",
    "        if(action==3):\n",
    "            self.playerPos[1] -=1\n",
    "        \n",
    "        #print(self.startPos)\n",
    "        #observ = np.zeros(18)\n",
    "        #\n",
    "        #observ[0] = self.playerPos[0]\n",
    "        #observ[1] = self.playerPos[1]\n",
    "        #observ[2] = self.aim.x\n",
    "        #observ[3] = self.aim.y\n",
    "        #observ[4] = self.obstacles[0].x\n",
    "        #observ[5] = self.obstacles[0].y\n",
    "        #observ[6] = self.obstacles[1].x\n",
    "        #observ[7] = self.obstacles[1].y\n",
    "        #observ[8] = self.obstacles[2].x\n",
    "        #observ[9] = self.obstacles[2].y\n",
    "        #observ[10] = self.obstacles[3].x\n",
    "        #observ[11] = self.obstacles[3].y\n",
    "        #observ[12] = self.obstacles[4].x\n",
    "        #observ[13] = self.obstacles[4].y\n",
    "        #observ[14] = self.obstacles[5].x\n",
    "        #observ[15] = self.obstacles[5].y\n",
    "        #observ[16] = self.obstacles[6].x\n",
    "        #observ[17] = self.obstacles[6].y\n",
    "        \n",
    "        \n",
    "\n",
    "        \n",
    "        observ = self.createMap().reshape(boardSize[0]*boardSize[1])\n",
    "        \n",
    "        reward, done = self.getRewardForField(self.playerPos[0],self.playerPos[1])\n",
    "        \n",
    "        return observ, reward, done\n",
    "            \n",
    "            \n",
    "    def createMap(self,plot=False):\n",
    "        \n",
    "        m = np.zeros(self.boardSize)\n",
    "        for ob in self.obstacles:\n",
    "            m[ob.x,ob.y] = 0.3\n",
    "        if(self.playerPos[0]>0 and self.playerPos[0]< boardSize[0] and\n",
    "          self.playerPos[1]>0 and self.playerPos[1]< boardSize[1]):\n",
    "            m[self.playerPos[0],self.playerPos[1]] = 1\n",
    "        m[self.aim.x,self.aim.y] = 0.9\n",
    "        \n",
    "        if plot:\n",
    "            plt.imshow(m, cmap='hot', interpolation='nearest')\n",
    "            plt.show()\n",
    "        else:\n",
    "            #print(m.shape)\n",
    "            return m\n",
    "    \n",
    "    def checkBounds(self,p):\n",
    "        if(p[0]<0):\n",
    "            return -10000, True\n",
    "        if(p[1]<0):\n",
    "            return -10000, True\n",
    "        if(p[0]>=boardSize[0]):\n",
    "            return -10000, True\n",
    "        if(p[1]>=boardSize[1]):\n",
    "            return -10000, True\n",
    "        return 0, False\n",
    "    \n",
    "    def distance(self, a, b,special=False):\n",
    "        #print(special)\n",
    "        if(special):\n",
    "            #b.x\n",
    "            return np.sqrt(np.square(a[0]-b.x)+np.square(a[1]-b.y))\n",
    "        else:\n",
    "            return np.sqrt(np.square(a.x-b.x)+np.square(a.y-b.y))\n",
    "    \n",
    "\n",
    "    def getRewardForField(self, x, y):  # Reward für alle Felder\n",
    "        done = False\n",
    "        pos = [x,y]\n",
    "        reward = 0\n",
    "        reward -= 100*1*(self.distance(pos,self.aim,special=True))\n",
    "        rew , done = self.checkBounds(pos)\n",
    "        reward += rew\n",
    "        for ob in self.obstacles:\n",
    "            reward -= 1000*np.exp(-(self.distance(pos,ob,special=True)*safeDist))\n",
    "        if(x == self.aim.x and y == self.aim.y):\n",
    "            #print(\"AAAAA\")\n",
    "            reward =  10000\n",
    "            done = True\n",
    "        edgeControl = 400\n",
    "        if(pos[0]==0 or pos[0]== boardSize[0]-1):\n",
    "            reward -= edgeControl\n",
    "        if(pos[1]==0 or pos[1]== boardSize[1]-1):\n",
    "            reward -= edgeControl\n",
    "        return reward, done\n",
    "\n",
    "\n",
    "\n",
    "\n"
   ]
  },
  {
   "cell_type": "code",
   "execution_count": 20,
   "metadata": {
    "scrolled": false
   },
   "outputs": [
    {
     "name": "stderr",
     "output_type": "stream",
     "text": [
      "\r",
      "  0%|          | 0/50 [00:00<?, ?it/s]"
     ]
    },
    {
     "name": "stdout",
     "output_type": "stream",
     "text": [
      "100000\n",
      "[225]\n",
      "4\n",
      "episode:  1 score: -21617.06  average score -3833.72 Epsilon 1.000\n"
     ]
    },
    {
     "name": "stderr",
     "output_type": "stream",
     "text": [
      " 12%|█▏        | 6/50 [00:00<00:02, 18.23it/s]"
     ]
    },
    {
     "name": "stdout",
     "output_type": "stream",
     "text": [
      "episode:  3 score: -36376.47  average score -3833.72 Epsilon 0.997\n",
      "episode:  5 score: -24783.18  average score -3833.72 Epsilon 0.992\n"
     ]
    },
    {
     "name": "stderr",
     "output_type": "stream",
     "text": [
      " 16%|█▌        | 8/50 [00:00<00:06,  6.13it/s]"
     ]
    },
    {
     "name": "stdout",
     "output_type": "stream",
     "text": [
      "episode:  7 score: -45341.33  average score -3833.72 Epsilon 0.980\n"
     ]
    },
    {
     "name": "stderr",
     "output_type": "stream",
     "text": [
      "\r",
      " 18%|█▊        | 9/50 [00:01<00:07,  5.61it/s]"
     ]
    },
    {
     "name": "stdout",
     "output_type": "stream",
     "text": [
      "episode:  9 score: -20803.21  average score -3833.72 Epsilon 0.975\n"
     ]
    },
    {
     "name": "stderr",
     "output_type": "stream",
     "text": [
      " 26%|██▌       | 13/50 [00:01<00:06,  5.94it/s]"
     ]
    },
    {
     "name": "stdout",
     "output_type": "stream",
     "text": [
      "episode:  11 score: -25257.22  average score -3833.72 Epsilon 0.967\n"
     ]
    },
    {
     "name": "stderr",
     "output_type": "stream",
     "text": [
      " 30%|███       | 15/50 [00:02<00:05,  6.56it/s]"
     ]
    },
    {
     "name": "stdout",
     "output_type": "stream",
     "text": [
      "episode:  13 score: -4114.42  average score -3833.72 Epsilon 0.960\n"
     ]
    },
    {
     "name": "stderr",
     "output_type": "stream",
     "text": [
      " 34%|███▍      | 17/50 [00:02<00:05,  5.61it/s]"
     ]
    },
    {
     "name": "stdout",
     "output_type": "stream",
     "text": [
      "episode:  15 score: -32663.65  average score -3833.72 Epsilon 0.951\n",
      "episode:  17 score: -13681.56  average score -3833.72 Epsilon 0.947\n"
     ]
    },
    {
     "name": "stderr",
     "output_type": "stream",
     "text": [
      " 42%|████▏     | 21/50 [00:02<00:03,  7.52it/s]"
     ]
    },
    {
     "name": "stdout",
     "output_type": "stream",
     "text": [
      "episode:  19 score: -29144.83  average score -3833.72 Epsilon 0.941\n"
     ]
    },
    {
     "name": "stderr",
     "output_type": "stream",
     "text": [
      "\r",
      " 44%|████▍     | 22/50 [00:03<00:04,  6.13it/s]"
     ]
    },
    {
     "name": "stdout",
     "output_type": "stream",
     "text": [
      "episode:  21 score: -38712.09  average score -21150.44 Epsilon 0.935\n"
     ]
    },
    {
     "name": "stderr",
     "output_type": "stream",
     "text": [
      " 48%|████▊     | 24/50 [00:03<00:05,  5.00it/s]"
     ]
    },
    {
     "name": "stdout",
     "output_type": "stream",
     "text": [
      "episode:  23 score: -11877.30  average score -20764.91 Epsilon 0.925\n"
     ]
    },
    {
     "name": "stderr",
     "output_type": "stream",
     "text": [
      "\r",
      " 52%|█████▏    | 26/50 [00:03<00:04,  5.04it/s]"
     ]
    },
    {
     "name": "stdout",
     "output_type": "stream",
     "text": [
      "episode:  25 score: -62174.64  average score -51345.75 Epsilon 0.918\n"
     ]
    },
    {
     "name": "stderr",
     "output_type": "stream",
     "text": [
      " 56%|█████▌    | 28/50 [00:04<00:05,  3.89it/s]"
     ]
    },
    {
     "name": "stdout",
     "output_type": "stream",
     "text": [
      "episode:  27 score: -48767.04  average score -39537.47 Epsilon 0.907\n"
     ]
    },
    {
     "name": "stderr",
     "output_type": "stream",
     "text": [
      "\r",
      " 60%|██████    | 30/50 [00:04<00:04,  4.29it/s]"
     ]
    },
    {
     "name": "stdout",
     "output_type": "stream",
     "text": [
      "episode:  29 score: -52731.24  average score -44942.99 Epsilon 0.900\n"
     ]
    },
    {
     "name": "stderr",
     "output_type": "stream",
     "text": [
      " 66%|██████▌   | 33/50 [00:05<00:03,  5.13it/s]"
     ]
    },
    {
     "name": "stdout",
     "output_type": "stream",
     "text": [
      "episode:  31 score: -43389.74  average score -26965.31 Epsilon 0.893\n",
      "episode:  33 score: -15111.82  average score -13947.14 Epsilon 0.890\n"
     ]
    },
    {
     "name": "stderr",
     "output_type": "stream",
     "text": [
      " 74%|███████▍  | 37/50 [00:05<00:01,  7.56it/s]"
     ]
    },
    {
     "name": "stdout",
     "output_type": "stream",
     "text": [
      "episode:  35 score: -21816.89  average score -3362.53 Epsilon 0.886\n"
     ]
    },
    {
     "name": "stderr",
     "output_type": "stream",
     "text": [
      "\r",
      " 78%|███████▊  | 39/50 [00:06<00:01,  6.27it/s]"
     ]
    },
    {
     "name": "stdout",
     "output_type": "stream",
     "text": [
      "episode:  37 score: -46283.99  average score -40360.68 Epsilon 0.879\n"
     ]
    },
    {
     "name": "stderr",
     "output_type": "stream",
     "text": [
      "\r",
      " 80%|████████  | 40/50 [00:06<00:01,  6.05it/s]"
     ]
    },
    {
     "name": "stdout",
     "output_type": "stream",
     "text": [
      "episode:  39 score: -26864.42  average score -10720.96 Epsilon 0.873\n"
     ]
    },
    {
     "name": "stderr",
     "output_type": "stream",
     "text": [
      "\r",
      " 82%|████████▏ | 41/50 [00:06<00:02,  4.17it/s]"
     ]
    },
    {
     "name": "stdout",
     "output_type": "stream",
     "text": [
      "episode:  41 score: -13170.71  average score -32438.44 Epsilon 0.867\n",
      "episode:  43 score: -18303.41  average score -677.50 Epsilon 0.866\n"
     ]
    },
    {
     "name": "stderr",
     "output_type": "stream",
     "text": [
      " 94%|█████████▍| 47/50 [00:07<00:00,  6.20it/s]"
     ]
    },
    {
     "name": "stdout",
     "output_type": "stream",
     "text": [
      "episode:  45 score: -18466.93  average score -41265.77 Epsilon 0.859\n"
     ]
    },
    {
     "name": "stderr",
     "output_type": "stream",
     "text": [
      " 98%|█████████▊| 49/50 [00:07<00:00,  6.17it/s]"
     ]
    },
    {
     "name": "stdout",
     "output_type": "stream",
     "text": [
      "episode:  47 score: -557.17  average score -9414.97 Epsilon 0.854\n"
     ]
    },
    {
     "name": "stderr",
     "output_type": "stream",
     "text": [
      "100%|██████████| 50/50 [00:07<00:00,  6.43it/s]\n"
     ]
    },
    {
     "name": "stdout",
     "output_type": "stream",
     "text": [
      "episode:  49 score: -27543.02  average score -8726.56 Epsilon 0.849\n",
      "\n",
      "50 Spieldurchläufe: 8 mal Ziel erreicht, Quote = 0.16\n",
      "Quote der letzten 100 Durchläufe 0.08\n"
     ]
    },
    {
     "data": {
      "image/png": "[encoded data removed]",
      "text/plain": [
       "<Figure size 432x288 with 1 Axes>"
      ]
     },
     "metadata": {
      "needs_background": "light"
     },
     "output_type": "display_data"
    },
    {
     "data": {
      "image/png": "[encoded data removed]",
      "text/plain": [
       "<Figure size 432x288 with 1 Axes>"
      ]
     },
     "metadata": {
      "needs_background": "light"
     },
     "output_type": "display_data"
    }
   ],
   "source": [
    "##### Here\n",
    "\n",
    "gameStates = np.zeros((timeSteps, boardSize[0],boardSize[1] ))\n",
    "#\n",
    "\n",
    "agent = Agent(gamma=0.99, epsilon=1.0, lr=5e-4, n_actions=4, input_dims=[boardSize[0]*boardSize[1]], \n",
    "              mem_size=100000, batch_size=64, eps_min=0.01, eps_dec=1e-4, replace=100)\n",
    "load_checkpoint = False\n",
    "\n",
    "if load_checkpoint:\n",
    "        agent.load_models()\n",
    "        \n",
    "scores, eps_hist = [], []\n",
    "n_games = 50\n",
    "\n",
    "score_saver = []\n",
    "avg_score_saver = []\n",
    "ddqn_scores = []\n",
    "eps_history = []\n",
    "savedGames = []\n",
    "MAX_ITER = 60\n",
    "prec = 20\n",
    "reached = 0\n",
    "reached_last_100 = 0\n",
    "for i in tqdm(range(n_games)):\n",
    "    score = 0\n",
    "    done = False\n",
    "    aimPos = np.array([np.random.randint(1,8)+2,np.random.randint(7,8)+2])\n",
    "    playerpos = np.array([np.random.randint(1,8),np.random.randint(2,4)])            \n",
    "    env = game(playerpos,aimPos)\n",
    "    observation = env.reset()\n",
    "    \n",
    "    #if(i>n_games - 30):\n",
    "    game_sav = []\n",
    "    iteration = 0\n",
    "    while not done:\n",
    "        iteration +=1\n",
    "        \n",
    "        #save.append(observation)\n",
    "        action = agent.choose_action(observation)\n",
    "        observation_, reward, done = env.step(action)\n",
    "        if reward == 10000:\n",
    "            reached += 1\n",
    "            if i > (n_games -100):\n",
    "                reached_last_100 += 1\n",
    "        score += reward\n",
    "        agent.store_transition(observation, action,\n",
    "                                    reward, observation_, int(done))\n",
    "        \n",
    "        agent.learn()\n",
    "        observation = observation_\n",
    "        #if(i>n_games - 10):\n",
    "        game_sav.append(observation_)\n",
    "        eps_history.append(agent.epsilon)\n",
    "\n",
    "        ddqn_scores.append(score)\n",
    "        if(i > 20):\n",
    "            avg_score = np.mean(ddqn_scores[-10])\n",
    "        \n",
    "        if iteration == MAX_ITER:\n",
    "            done = True\n",
    "\n",
    "        if i % 10 == 0 and i > 0:\n",
    "            agent.save_models()\n",
    "    score_saver.append(score)\n",
    "    if(i > 20):\n",
    "        avg_score_saver.append(avg_score)\n",
    "    #if(i>n_games - 10):\n",
    "    savedGames.append(game_sav)\n",
    "    if i % int(n_games/prec) == int(n_games/prec)-1:\n",
    "            print('episode: ', i,'score: %.2f' % score,\n",
    "                  ' average score %.2f' % avg_score,\n",
    "                  'Epsilon %.3f' % agent.epsilon) \n",
    "    #if i == n_games-20:\n",
    "    #    break     \n",
    "print(\"\")\n",
    "print(str(n_games) + \" Spieldurchläufe: \"  +str(reached) + \" mal Ziel erreicht, Quote = \" + str(reached/n_games))\n",
    "print(\"Quote der letzten 100 Durchläufe \" + str(reached_last_100/100) )\n",
    "plt.plot(score_saver)\n",
    "plt.show()\n",
    "plt.plot(avg_score_saver)\n",
    "plt.show()"
   ]
  },
  {
   "cell_type": "code",
   "execution_count": 21,
   "metadata": {},
   "outputs": [
    {
     "data": {
      "text/plain": [
       "[<matplotlib.lines.Line2D at 0x7fc7d8ebe760>]"
      ]
     },
     "execution_count": 21,
     "metadata": {},
     "output_type": "execute_result"
    },
    {
     "data": {
      "image/png": "[encoded data removed]",
      "text/plain": [
       "<Figure size 432x288 with 1 Axes>"
      ]
     },
     "metadata": {
      "needs_background": "light"
     },
     "output_type": "display_data"
    }
   ],
   "source": [
    "plt.plot(score_saver[-100:])"
   ]
  },
  {
   "cell_type": "code",
   "execution_count": 22,
   "metadata": {},
   "outputs": [
    {
     "name": "stdout",
     "output_type": "stream",
     "text": [
      "0.0 0.0\n"
     ]
    },
    {
     "data": {
      "text/plain": [
       "<matplotlib.image.AxesImage at 0x7fc7d8ecd580>"
      ]
     },
     "execution_count": 22,
     "metadata": {},
     "output_type": "execute_result"
    },
    {
     "data": {
      "image/png": "[encoded data removed]",
      "text/plain": [
       "<Figure size 432x288 with 1 Axes>"
      ]
     },
     "metadata": {
      "needs_background": "light"
     },
     "output_type": "display_data"
    }
   ],
   "source": [
    "plt.imshow(showReward(savedGames[-1][0]) , cmap='hot', interpolation='nearest')"
   ]
  },
  {
   "cell_type": "code",
   "execution_count": 23,
   "metadata": {},
   "outputs": [
    {
     "data": {
      "text/plain": [
       "33"
      ]
     },
     "execution_count": 23,
     "metadata": {},
     "output_type": "execute_result"
    }
   ],
   "source": [
    "len(savedGames[-2])"
   ]
  },
  {
   "cell_type": "code",
   "execution_count": 24,
   "metadata": {
    "scrolled": false
   },
   "outputs": [
    {
     "name": "stdout",
     "output_type": "stream",
     "text": [
      "MIN:1.0 0.0\n"
     ]
    },
    {
     "data": {
      "image/png": "[encoded data removed]",
      "text/plain": [
       "<Figure size 432x288 with 1 Axes>"
      ]
     },
     "metadata": {
      "needs_background": "light"
     },
     "output_type": "display_data"
    },
    {
     "name": "stdout",
     "output_type": "stream",
     "text": [
      "MIN:1.0 0.0\n"
     ]
    },
    {
     "data": {
      "image/png": "[encoded data removed]",
      "text/plain": [
       "<Figure size 432x288 with 1 Axes>"
      ]
     },
     "metadata": {
      "needs_background": "light"
     },
     "output_type": "display_data"
    },
    {
     "name": "stdout",
     "output_type": "stream",
     "text": [
      "MIN:1.0 0.0\n"
     ]
    },
    {
     "data": {
      "image/png": "[encoded data removed]",
      "text/plain": [
       "<Figure size 432x288 with 1 Axes>"
      ]
     },
     "metadata": {
      "needs_background": "light"
     },
     "output_type": "display_data"
    },
    {
     "name": "stdout",
     "output_type": "stream",
     "text": [
      "MIN:1.0 0.0\n"
     ]
    },
    {
     "data": {
      "image/png": "[encoded data removed]",
      "text/plain": [
       "<Figure size 432x288 with 1 Axes>"
      ]
     },
     "metadata": {
      "needs_background": "light"
     },
     "output_type": "display_data"
    },
    {
     "name": "stdout",
     "output_type": "stream",
     "text": [
      "MIN:1.0 0.0\n"
     ]
    },
    {
     "data": {
      "image/png": "[encoded data removed]",
      "text/plain": [
       "<Figure size 432x288 with 1 Axes>"
      ]
     },
     "metadata": {
      "needs_background": "light"
     },
     "output_type": "display_data"
    },
    {
     "name": "stdout",
     "output_type": "stream",
     "text": [
      "MIN:1.0 0.0\n"
     ]
    },
    {
     "data": {
      "image/png": "[encoded data removed]",
      "text/plain": [
       "<Figure size 432x288 with 1 Axes>"
      ]
     },
     "metadata": {
      "needs_background": "light"
     },
     "output_type": "display_data"
    },
    {
     "name": "stdout",
     "output_type": "stream",
     "text": [
      "MIN:1.0 0.0\n"
     ]
    },
    {
     "data": {
      "image/png": "[encoded data removed]",
      "text/plain": [
       "<Figure size 432x288 with 1 Axes>"
      ]
     },
     "metadata": {
      "needs_background": "light"
     },
     "output_type": "display_data"
    },
    {
     "name": "stdout",
     "output_type": "stream",
     "text": [
      "MIN:1.0 0.0\n"
     ]
    },
    {
     "data": {
      "image/png": "[encoded data removed]",
      "text/plain": [
       "<Figure size 432x288 with 1 Axes>"
      ]
     },
     "metadata": {
      "needs_background": "light"
     },
     "output_type": "display_data"
    },
    {
     "name": "stdout",
     "output_type": "stream",
     "text": [
      "MIN:1.0 0.0\n"
     ]
    },
    {
     "data": {
      "image/png": "[encoded data removed]",
      "text/plain": [
       "<Figure size 432x288 with 1 Axes>"
      ]
     },
     "metadata": {
      "needs_background": "light"
     },
     "output_type": "display_data"
    },
    {
     "name": "stdout",
     "output_type": "stream",
     "text": [
      "MIN:1.0 0.0\n"
     ]
    },
    {
     "data": {
      "image/png": "[encoded data removed]",
      "text/plain": [
       "<Figure size 432x288 with 1 Axes>"
      ]
     },
     "metadata": {
      "needs_background": "light"
     },
     "output_type": "display_data"
    },
    {
     "name": "stdout",
     "output_type": "stream",
     "text": [
      "MIN:1.0 0.0\n"
     ]
    },
    {
     "data": {
      "image/png": "[encoded data removed]",
      "text/plain": [
       "<Figure size 432x288 with 1 Axes>"
      ]
     },
     "metadata": {
      "needs_background": "light"
     },
     "output_type": "display_data"
    },
    {
     "name": "stdout",
     "output_type": "stream",
     "text": [
      "MIN:0.9 0.0\n"
     ]
    },
    {
     "data": {
      "image/png": "[encoded data removed]",
      "text/plain": [
       "<Figure size 432x288 with 1 Axes>"
      ]
     },
     "metadata": {
      "needs_background": "light"
     },
     "output_type": "display_data"
    },
    {
     "name": "stdout",
     "output_type": "stream",
     "text": [
      "MIN:1.0 0.0\n"
     ]
    },
    {
     "data": {
      "image/png": "[encoded data removed]",
      "text/plain": [
       "<Figure size 432x288 with 1 Axes>"
      ]
     },
     "metadata": {
      "needs_background": "light"
     },
     "output_type": "display_data"
    },
    {
     "name": "stdout",
     "output_type": "stream",
     "text": [
      "MIN:1.0 0.0\n"
     ]
    },
    {
     "data": {
      "image/png": "[encoded data removed]",
      "text/plain": [
       "<Figure size 432x288 with 1 Axes>"
      ]
     },
     "metadata": {
      "needs_background": "light"
     },
     "output_type": "display_data"
    },
    {
     "name": "stdout",
     "output_type": "stream",
     "text": [
      "MIN:0.9 0.0\n"
     ]
    },
    {
     "data": {
      "image/png": "[encoded data removed]",
      "text/plain": [
       "<Figure size 432x288 with 1 Axes>"
      ]
     },
     "metadata": {
      "needs_background": "light"
     },
     "output_type": "display_data"
    },
    {
     "name": "stdout",
     "output_type": "stream",
     "text": [
      "MIN:0.9 0.0\n"
     ]
    },
    {
     "data": {
      "image/png": "[encoded data removed]",
      "text/plain": [
       "<Figure size 432x288 with 1 Axes>"
      ]
     },
     "metadata": {
      "needs_background": "light"
     },
     "output_type": "display_data"
    },
    {
     "name": "stdout",
     "output_type": "stream",
     "text": [
      "MIN:0.9 0.0\n"
     ]
    },
    {
     "data": {
      "image/png": "[encoded data removed]",
      "text/plain": [
       "<Figure size 432x288 with 1 Axes>"
      ]
     },
     "metadata": {
      "needs_background": "light"
     },
     "output_type": "display_data"
    },
    {
     "name": "stdout",
     "output_type": "stream",
     "text": [
      "MIN:0.9 0.0\n"
     ]
    },
    {
     "data": {
      "image/png": "[encoded data removed]",
      "text/plain": [
       "<Figure size 432x288 with 1 Axes>"
      ]
     },
     "metadata": {
      "needs_background": "light"
     },
     "output_type": "display_data"
    },
    {
     "name": "stdout",
     "output_type": "stream",
     "text": [
      "MIN:0.9 0.0\n"
     ]
    },
    {
     "data": {
      "image/png": "[encoded data removed]",
      "text/plain": [
       "<Figure size 432x288 with 1 Axes>"
      ]
     },
     "metadata": {
      "needs_background": "light"
     },
     "output_type": "display_data"
    }
   ],
   "source": [
    "showhist_map(savedGames[-np.random.randint(1,50)])"
   ]
  },
  {
   "cell_type": "code",
   "execution_count": 15,
   "metadata": {
    "scrolled": false
   },
   "outputs": [
    {
     "name": "stdout",
     "output_type": "stream",
     "text": [
      "MIN:1.0 0.0\n"
     ]
    },
    {
     "data": {
      "image/png": "[encoded data removed]",
      "text/plain": [
       "<Figure size 432x288 with 1 Axes>"
      ]
     },
     "metadata": {
      "needs_background": "light"
     },
     "output_type": "display_data"
    },
    {
     "name": "stdout",
     "output_type": "stream",
     "text": [
      "MIN:1.0 0.0\n"
     ]
    },
    {
     "data": {
      "image/png": "[encoded data removed]",
      "text/plain": [
       "<Figure size 432x288 with 1 Axes>"
      ]
     },
     "metadata": {
      "needs_background": "light"
     },
     "output_type": "display_data"
    },
    {
     "name": "stdout",
     "output_type": "stream",
     "text": [
      "MIN:1.0 0.0\n"
     ]
    },
    {
     "data": {
      "image/png": "[encoded data removed]",
      "text/plain": [
       "<Figure size 432x288 with 1 Axes>"
      ]
     },
     "metadata": {
      "needs_background": "light"
     },
     "output_type": "display_data"
    },
    {
     "name": "stdout",
     "output_type": "stream",
     "text": [
      "MIN:1.0 0.0\n"
     ]
    },
    {
     "data": {
      "image/png": "[encoded data removed]",
      "text/plain": [
       "<Figure size 432x288 with 1 Axes>"
      ]
     },
     "metadata": {
      "needs_background": "light"
     },
     "output_type": "display_data"
    },
    {
     "name": "stdout",
     "output_type": "stream",
     "text": [
      "MIN:1.0 0.0\n"
     ]
    },
    {
     "data": {
      "image/png": "[encoded data removed]",
      "text/plain": [
       "<Figure size 432x288 with 1 Axes>"
      ]
     },
     "metadata": {
      "needs_background": "light"
     },
     "output_type": "display_data"
    },
    {
     "name": "stdout",
     "output_type": "stream",
     "text": [
      "MIN:1.0 0.0\n"
     ]
    },
    {
     "data": {
      "image/png": "[encoded data removed]",
      "text/plain": [
       "<Figure size 432x288 with 1 Axes>"
      ]
     },
     "metadata": {
      "needs_background": "light"
     },
     "output_type": "display_data"
    },
    {
     "name": "stdout",
     "output_type": "stream",
     "text": [
      "MIN:1.0 0.0\n"
     ]
    },
    {
     "data": {
      "image/png": "[encoded data removed]",
      "text/plain": [
       "<Figure size 432x288 with 1 Axes>"
      ]
     },
     "metadata": {
      "needs_background": "light"
     },
     "output_type": "display_data"
    },
    {
     "name": "stdout",
     "output_type": "stream",
     "text": [
      "MIN:0.9 0.0\n"
     ]
    },
    {
     "data": {
      "image/png": "[encoded data removed]",
      "text/plain": [
       "<Figure size 432x288 with 1 Axes>"
      ]
     },
     "metadata": {
      "needs_background": "light"
     },
     "output_type": "display_data"
    }
   ],
   "source": [
    "showhist_map(savedGames[-np.random.randint(1,50)])"
   ]
  },
  {
   "cell_type": "code",
   "execution_count": null,
   "metadata": {},
   "outputs": [],
   "source": []
  }
 ],
 "metadata": {
  "kernelspec": {
   "display_name": "Python 3",
   "language": "python",
   "name": "python3"
  },
  "language_info": {
   "codemirror_mode": {
    "name": "ipython",
    "version": 3
   },
   "file_extension": ".py",
   "mimetype": "text/x-python",
   "name": "python",
   "nbconvert_exporter": "python",
   "pygments_lexer": "ipython3",
   "version": "3.8.0"
  }
 },
 "nbformat": 4,
 "nbformat_minor": 2
}

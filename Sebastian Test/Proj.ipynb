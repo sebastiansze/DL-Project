{
 "cells": [
  {
   "cell_type": "code",
   "execution_count": 52,
   "metadata": {},
   "outputs": [],
   "source": [
    "import numpy as np\n",
    "import matplotlib.pyplot as plt"
   ]
  },
  {
   "cell_type": "code",
   "execution_count": 53,
   "metadata": {},
   "outputs": [],
   "source": [
    "boardSize = (10,10)   # Legt die Größe des Feldes fest\n",
    "timeSteps = 20 # Legt die Spieldauer fest (Anz. Iterationen)\n",
    "safeDist = 10"
   ]
  },
  {
   "cell_type": "code",
   "execution_count": 54,
   "metadata": {},
   "outputs": [],
   "source": [
    "# Classes\n",
    "\n",
    "class player:\n",
    "    def __init__(self,x,y):\n",
    "        self.x = x\n",
    "        self.y = y\n",
    "    def move(self,dir):         # Wir können später gerne noch diagonale Bewegungen hinzufügen\n",
    "        if dir == \"up\": self.y +=1\n",
    "        if dir == \"down\": self.y -=1\n",
    "        if dir == \"right\": self.x +=1\n",
    "        if dir == \"left\": self.x -=1\n",
    "            \n",
    "            \n",
    "class aim:\n",
    "    def __init__(self,x,y):\n",
    "        self.x = x\n",
    "        self.y = y        \n",
    "        \n",
    "        \n",
    "class obstacle:\n",
    "    def __init__(self,x,y):\n",
    "        self.x = x\n",
    "        self.y = y "
   ]
  },
  {
   "cell_type": "code",
   "execution_count": 55,
   "metadata": {},
   "outputs": [],
   "source": [
    "def createMap(p,a,obstacles):\n",
    "    m = np.ones(boardSize)\n",
    "    m[p.x,p.y] = 0\n",
    "    m[a.x,a.y] = 0.5\n",
    "    for ob in obstacles:\n",
    "        m[ob.x,ob.y] = 0.9\n",
    "    return m\n",
    "\n",
    "\n",
    "def createRewardMap(p,a,obstacles):\n",
    "    m = np.ones(boardSize)\n",
    "    m[p.x,p.y] = 0\n",
    "    m[a.x,a.y] = 0.5\n",
    "    for ob in obstacles:\n",
    "        m[ob.x,ob.y] = 0.9\n",
    "    return m\n",
    "\n",
    "    \n",
    "def showMap(m):\n",
    "    plt.imshow(m, cmap='hot', interpolation='nearest')\n",
    "    plt.show()\n",
    "    \n",
    "    \n",
    "def showGameHist(hist,reward):\n",
    "    for t in range(timeSteps):\n",
    "        showMap(hist[t])\n",
    "        print(reward[t])\n",
    "        \n",
    "        \n",
    "def distance(a, b,special=False):\n",
    "    #print(special)\n",
    "    if(special):\n",
    "\n",
    "        b.x\n",
    "        return np.sqrt(np.square(a[0]-b.x)+np.square(a[1]-b.y))\n",
    "    else:\n",
    "        return np.sqrt(np.square(a.x-b.x)+np.square(a.y-b.y))\n",
    "\n",
    "    \n",
    "def checkBounds(p):\n",
    "    if(p[0]<0):\n",
    "        return -1000\n",
    "    if(p[1]<0):\n",
    "        return -1000\n",
    "    if(p[0]>=boardSize[0]):\n",
    "        return -1000\n",
    "    if(p[1]>=boardSize[1]):\n",
    "        return -1000\n",
    "    return 0\n",
    "    \n",
    "    \n",
    "def getRewardForAllFields(a,obstacles):  # Reward für alle Felder\n",
    "    board = np.zeros((boardSize[0],boardSize[1]))\n",
    "    for i in range(boardSize[0]):\n",
    "        for j in range(boardSize[1]):\n",
    "            board[i,j] = getRewardForField(i,j, a ,obstacles)\n",
    "    return board\n",
    "\n",
    "\n",
    "def getRewardForField(x,y, a ,obstacles):  # Reward für alle Felder\n",
    "    pos = [x,y]\n",
    "    reward = 100\n",
    "    reward -= 10*1*distance(pos,a,special=True)\n",
    "    reward += checkBounds(pos)\n",
    "    for ob in obstacles:\n",
    "        reward -= 30*np.exp(-(distance(pos,ob,special=True)*safeDist))\n",
    "    if(x == a.x and y == a.y):\n",
    "        reward =  2000\n",
    "    return reward\n",
    "\n",
    "\n",
    "def getRewardForMovements(p,a,obstacles):  # Reward für alle Felder\n",
    "    actionReward = np.zeros(4)\n",
    "    for i in range(4):\n",
    "        p_pred = [p.x, p.y]\n",
    "        if(i==0):\n",
    "            p_pred[1] +=1\n",
    "        if(i==1):\n",
    "            p_pred[1] -=1\n",
    "        if(i==2):\n",
    "            p_pred[0] +=1\n",
    "        if(i==3):\n",
    "            p_pred[0] -=1\n",
    "                   \n",
    "        actionReward[i] = getRewardForField(p_pred[0],p_pred[1], a ,obstacles)\n",
    "    return actionReward\n",
    "\n",
    "########## Movements\n",
    "\n",
    "\n",
    "actions = {\n",
    "    0 : \"up\",\n",
    "    1 : \"down\",\n",
    "    2 : \"right\",\n",
    "    3 : \"left\"\n",
    "}   "
   ]
  },
  {
   "cell_type": "code",
   "execution_count": 56,
   "metadata": {},
   "outputs": [
    {
     "data": {
      "text/plain": [
       "array([-953.85164807,   50.        , -941.23105626, -960.8276253 ])"
      ]
     },
     "execution_count": 56,
     "metadata": {},
     "output_type": "execute_result"
    }
   ],
   "source": [
    "getRewardForMovements(p,a,obstacles)\n",
    "\n",
    "#Board\n",
    "#player_pos\n",
    "#Aim_pos\n"
   ]
  },
  {
   "cell_type": "code",
   "execution_count": 61,
   "metadata": {
    "scrolled": false
   },
   "outputs": [],
   "source": [
    "# Init für Board und Reward\n",
    "gameStates = np.zeros((timeSteps, boardSize[0],boardSize[1] ))  # Speichert Spielverlauf für jeden Timestep\n",
    "reward = np.zeros(timeSteps)\n",
    "num_Games = 100\n",
    "X = np.zeros((num_Games*timeSteps,boardSize[0],boardSize[1]))\n",
    "Y = np.zeros((num_Games*timeSteps,4))\n",
    "# Initiale Start und End position\n",
    "for j in range(num_Games):\n",
    "    p = player(2,2)  # player is black\n",
    "    p.x = np.random.randint(0,boardSize[0])\n",
    "    p.y = np.random.randint(0,boardSize[1])\n",
    "    a = aim(8,9)   # Aim is Orange\n",
    "    \n",
    "    obstacles = [\n",
    "        obstacle(9,8),\n",
    "        obstacle(5,5),\n",
    "        obstacle(3,5),\n",
    "        obstacle(7,4),\n",
    "        obstacle(6,6),\n",
    "        obstacle(6,5),\n",
    "        obstacle(6,4)\n",
    "    ]\n",
    "    #gameStates[0] = createMap(p,a,obstacles) # Initiales Feld \n",
    "    #X[j*timeSteps]\n",
    "    \n",
    "    for i in range(0, timeSteps):   # Game Loop\n",
    "        #showMap(createMap(p,a,obstacles))\n",
    "        #p.move(actions[np.random.randint(4)]) # Bewegungen sind erstmal Random\n",
    "        p.move(actions[np.argmax(getRewardForMovements(p,a,obstacles))])\n",
    "        #print(str(p.x)+ \" \" + str(p.y))\n",
    "        #print(actions[np.argmax(getRewardForMovements(p,a,obstacles))])\n",
    "        #print(getRewardForMovements(p,a,obstacles))\n",
    "        #reward[i] = getReward(p,a,obstacles)\n",
    "        #print(p.y)\n",
    "        gameStates[i] = createMap(p,a,obstacles)\n",
    "        X[j*timeSteps+i] = createMap(p,a,obstacles)\n",
    "        Y[j*timeSteps+i,np.argmax(getRewardForMovements(p,a,obstacles))] = 1\n",
    "    #print(\"-----------------------------\")\n",
    "    \n",
    "    \n",
    "#showGameHist(gameStates, reward) # Zeigt spielverlauf und den aktuellen Reward an"
   ]
  },
  {
   "cell_type": "code",
   "execution_count": 62,
   "metadata": {},
   "outputs": [
    {
     "data": {
      "text/plain": [
       "array([[ -20,  -13,   -6,    0,    5,   10,   14,   17,   19,   20],\n",
       "       [ -14,   -6,    1,    7,   13,   19,   23,   27,   29,   30],\n",
       "       [  -8,    0,    7,   15,   21,   27,   32,   36,   39,   40],\n",
       "       [  -2,    5,   13,   21,   29,    5,   41,   46,   49,   50],\n",
       "       [   1,   10,   19,   27,   35,   43,   50,   55,   58,   60],\n",
       "       [   5,   14,   23,   32,   41,   20,   57,   63,   68,   70],\n",
       "       [   7,   17,   27,   36,   16,   25,   33,   71,   77,   80],\n",
       "       [   9,   19,   29,   39,   19,   58,   68,   77,   85,   90],\n",
       "       [  10,   20,   30,   40,   50,   60,   70,   80,   90, 2000],\n",
       "       [   9,   19,   29,   39,   49,   58,   68,   77,   55,   90]])"
      ]
     },
     "execution_count": 62,
     "metadata": {},
     "output_type": "execute_result"
    }
   ],
   "source": [
    "np.round(getRewardForAllFields( a ,obstacles),2).astype(np.int)"
   ]
  },
  {
   "cell_type": "code",
   "execution_count": 63,
   "metadata": {},
   "outputs": [
    {
     "data": {
      "text/plain": [
       "(20000, 10, 10)"
      ]
     },
     "execution_count": 63,
     "metadata": {},
     "output_type": "execute_result"
    }
   ],
   "source": [
    "X.shape"
   ]
  },
  {
   "cell_type": "code",
   "execution_count": 64,
   "metadata": {},
   "outputs": [
    {
     "data": {
      "text/plain": [
       "(20000, 4)"
      ]
     },
     "execution_count": 64,
     "metadata": {},
     "output_type": "execute_result"
    }
   ],
   "source": [
    "Y.shape"
   ]
  },
  {
   "cell_type": "markdown",
   "metadata": {},
   "source": [
    "Y[0]"
   ]
  },
  {
   "cell_type": "code",
   "execution_count": 65,
   "metadata": {},
   "outputs": [],
   "source": [
    "import torch.optim as optim\n",
    "import torch.nn as nn\n",
    "import torch.nn.functional as F\n",
    "import torch\n",
    "\n",
    "learning_rate = 0.01\n",
    "momentum = 0.5\n",
    "\n",
    "class Net(nn.Module):\n",
    "    def __init__(self):\n",
    "        super(Net, self).__init__()\n",
    "        self.fc1 = nn.Linear(boardSize[0] *boardSize[1], 150)\n",
    "        self.fc2 = nn.Linear(150, 200)\n",
    "        #self.drop = nn.Dropout2d()\n",
    "        self.fc3 = nn.Linear(200,400)\n",
    "        self.s1 = nn.Linear(400,80)\n",
    "        self.fc4 = nn.Linear(80,4)\n",
    "\n",
    "    def forward(self, x):\n",
    "\n",
    "        x = F.relu(self.fc1(x))\n",
    "        x = F.relu(self.fc2(x))\n",
    "        #x = F.dropout(x, training=self.training)\n",
    "        x = F.sigmoid(self.fc3(x))\n",
    "        x = F.sigmoid(self.s1(x))\n",
    "        x = F.relu(self.fc4(x))\n",
    "        return F.softmax(x)\n",
    "network = Net()\n",
    "optimizer = optim.SGD(network.parameters(), lr=learning_rate,\n",
    "                      momentum=momentum)"
   ]
  },
  {
   "cell_type": "code",
   "execution_count": 66,
   "metadata": {},
   "outputs": [
    {
     "data": {
      "text/plain": [
       "tensor([[0., 0., 1., 0.],\n",
       "        [0., 0., 1., 0.],\n",
       "        [0., 0., 1., 0.],\n",
       "        ...,\n",
       "        [0., 0., 1., 0.],\n",
       "        [0., 0., 0., 1.],\n",
       "        [0., 0., 1., 0.]], dtype=torch.float64, requires_grad=True)"
      ]
     },
     "execution_count": 66,
     "metadata": {},
     "output_type": "execute_result"
    }
   ],
   "source": [
    "Xt = torch.from_numpy(X.astype(np.float32))\n",
    "Xt.requires_grad_()\n",
    "Yt = torch.from_numpy(Y)\n",
    "Yt.requires_grad_()"
   ]
  },
  {
   "cell_type": "code",
   "execution_count": 72,
   "metadata": {},
   "outputs": [
    {
     "name": "stderr",
     "output_type": "stream",
     "text": [
      "/Library/Frameworks/Python.framework/Versions/3.8/lib/python3.8/site-packages/torch/nn/functional.py:1569: UserWarning: nn.functional.sigmoid is deprecated. Use torch.sigmoid instead.\n",
      "  warnings.warn(\"nn.functional.sigmoid is deprecated. Use torch.sigmoid instead.\")\n",
      "<ipython-input-65-20a076d3b2f3>:27: UserWarning: Implicit dimension choice for softmax has been deprecated. Change the call to include dim=X as an argument.\n",
      "  return F.softmax(x)\n"
     ]
    },
    {
     "name": "stdout",
     "output_type": "stream",
     "text": [
      "5000\n",
      "10000\n",
      "15000\n",
      "20000\n",
      "25000\n",
      "30000\n",
      "35000\n",
      "40000\n",
      "45000\n",
      "50000\n"
     ]
    }
   ],
   "source": [
    "epochs = 5000\n",
    "batchSize = 1\n",
    "err = np.zeros(epochs)\n",
    "for i in range(epochs):\n",
    "    if i%(epochs/10) == (epochs/10)-1:\n",
    "        print(i+1)\n",
    "    batchidx = np.random.randint(0,10,batchSize)\n",
    "    network.train()\n",
    "    optimizer.zero_grad()\n",
    "    #print(Xt[batchidx].shape)\n",
    "    yP = network.forward(Xt[batchidx].reshape(boardSize[0] *boardSize[1]))\n",
    "    #print(yP)\n",
    "    loss = (yP - Yt[batchidx]).pow(2).sum()\n",
    "    #print(loss)\n",
    "    err[i] = loss\n",
    "    loss.backward()\n",
    "    optimizer.step()"
   ]
  },
  {
   "cell_type": "code",
   "execution_count": 73,
   "metadata": {},
   "outputs": [
    {
     "data": {
      "text/plain": [
       "[<matplotlib.lines.Line2D at 0x7fa2c23d6280>]"
      ]
     },
     "execution_count": 73,
     "metadata": {},
     "output_type": "execute_result"
    },
    {
     "data": {
      "image/png": "[encoded data removed]",
      "text/plain": [
       "<Figure size 432x288 with 1 Axes>"
      ]
     },
     "metadata": {
      "needs_background": "light"
     },
     "output_type": "display_data"
    }
   ],
   "source": [
    "plt.plot(err)"
   ]
  },
  {
   "cell_type": "code",
   "execution_count": 74,
   "metadata": {},
   "outputs": [
    {
     "name": "stderr",
     "output_type": "stream",
     "text": [
      "/Library/Frameworks/Python.framework/Versions/3.8/lib/python3.8/site-packages/torch/nn/functional.py:1569: UserWarning: nn.functional.sigmoid is deprecated. Use torch.sigmoid instead.\n",
      "  warnings.warn(\"nn.functional.sigmoid is deprecated. Use torch.sigmoid instead.\")\n",
      "<ipython-input-65-20a076d3b2f3>:27: UserWarning: Implicit dimension choice for softmax has been deprecated. Change the call to include dim=X as an argument.\n",
      "  return F.softmax(x)\n"
     ]
    },
    {
     "data": {
      "text/plain": [
       "0"
      ]
     },
     "execution_count": 74,
     "metadata": {},
     "output_type": "execute_result"
    }
   ],
   "source": [
    "np.argmax(network.forward(Xt[10].reshape(boardSize[0] *boardSize[1])).detach().numpy())"
   ]
  },
  {
   "cell_type": "code",
   "execution_count": 76,
   "metadata": {},
   "outputs": [
    {
     "name": "stdout",
     "output_type": "stream",
     "text": [
      "up\n",
      "0\n",
      "up\n",
      "1\n",
      "up\n",
      "2\n",
      "up\n",
      "3\n",
      "up\n",
      "4\n",
      "up\n",
      "5\n",
      "up\n",
      "6\n",
      "up\n",
      "7\n"
     ]
    },
    {
     "name": "stderr",
     "output_type": "stream",
     "text": [
      "<ipython-input-65-20a076d3b2f3>:27: UserWarning: Implicit dimension choice for softmax has been deprecated. Change the call to include dim=X as an argument.\n",
      "  return F.softmax(x)\n"
     ]
    },
    {
     "data": {
      "image/png": "[encoded data removed]",
      "text/plain": [
       "<Figure size 432x288 with 1 Axes>"
      ]
     },
     "metadata": {
      "needs_background": "light"
     },
     "output_type": "display_data"
    },
    {
     "name": "stdout",
     "output_type": "stream",
     "text": [
      "0.0\n"
     ]
    },
    {
     "data": {
      "image/png": "[encoded data removed]",
      "text/plain": [
       "<Figure size 432x288 with 1 Axes>"
      ]
     },
     "metadata": {
      "needs_background": "light"
     },
     "output_type": "display_data"
    },
    {
     "name": "stdout",
     "output_type": "stream",
     "text": [
      "0.0\n"
     ]
    },
    {
     "data": {
      "image/png": "[encoded data removed]",
      "text/plain": [
       "<Figure size 432x288 with 1 Axes>"
      ]
     },
     "metadata": {
      "needs_background": "light"
     },
     "output_type": "display_data"
    },
    {
     "name": "stdout",
     "output_type": "stream",
     "text": [
      "0.0\n"
     ]
    },
    {
     "data": {
      "image/png": "[encoded data removed]",
      "text/plain": [
       "<Figure size 432x288 with 1 Axes>"
      ]
     },
     "metadata": {
      "needs_background": "light"
     },
     "output_type": "display_data"
    },
    {
     "name": "stdout",
     "output_type": "stream",
     "text": [
      "0.0\n"
     ]
    },
    {
     "data": {
      "image/png": "[encoded data removed]",
      "text/plain": [
       "<Figure size 432x288 with 1 Axes>"
      ]
     },
     "metadata": {
      "needs_background": "light"
     },
     "output_type": "display_data"
    },
    {
     "name": "stdout",
     "output_type": "stream",
     "text": [
      "0.0\n"
     ]
    },
    {
     "data": {
      "image/png": "[encoded data removed]",
      "text/plain": [
       "<Figure size 432x288 with 1 Axes>"
      ]
     },
     "metadata": {
      "needs_background": "light"
     },
     "output_type": "display_data"
    },
    {
     "name": "stdout",
     "output_type": "stream",
     "text": [
      "0.0\n"
     ]
    },
    {
     "data": {
      "image/png": "[encoded data removed]",
      "text/plain": [
       "<Figure size 432x288 with 1 Axes>"
      ]
     },
     "metadata": {
      "needs_background": "light"
     },
     "output_type": "display_data"
    },
    {
     "name": "stdout",
     "output_type": "stream",
     "text": [
      "0.0\n"
     ]
    },
    {
     "data": {
      "image/png": "[encoded data removed]",
      "text/plain": [
       "<Figure size 432x288 with 1 Axes>"
      ]
     },
     "metadata": {
      "needs_background": "light"
     },
     "output_type": "display_data"
    },
    {
     "name": "stdout",
     "output_type": "stream",
     "text": [
      "0.0\n"
     ]
    }
   ],
   "source": [
    "# Init für Board und Reward\n",
    "gameStates = np.zeros((timeSteps, boardSize[0],boardSize[1] ))  # Speichert Spielverlauf für jeden Timestep\n",
    "reward = np.zeros(timeSteps)\n",
    "num_Games = 1\n",
    "timeSteps = 8\n",
    "X = np.zeros((num_Games*timeSteps,boardSize[0],boardSize[1]))\n",
    "Y = np.zeros((num_Games*timeSteps,4))\n",
    "# Initiale Start und End position\n",
    "for j in range(num_Games):\n",
    "    p = player(2,2)  # player is black\n",
    "    p.x = np.random.randint(0,boardSize[0])\n",
    "    p.y = np.random.randint(0,boardSize[1])\n",
    "    a = aim(8,9)   # Aim is Orange\n",
    "    \n",
    "    obstacles = [\n",
    "        obstacle(9,8),\n",
    "        obstacle(5,5),\n",
    "        obstacle(3,5),\n",
    "        obstacle(7,4),\n",
    "        obstacle(6,6),\n",
    "        obstacle(6,5),\n",
    "        obstacle(6,4)\n",
    "    ]\n",
    "    #gameStates[0] = createMap(p,a,obstacles) # Initiales Feld \n",
    "    #X[j*timeSteps]\n",
    "    \n",
    "    for i in range(0, timeSteps):   # Game Loop\n",
    "        #showMap(createMap(p,a,obstacles))\n",
    "        #p.move(actions[np.random.randint(4)]) # Bewegungen sind erstmal Random\n",
    "        act = torch.from_numpy(createMap(p,a,obstacles).astype(np.float32))\n",
    "        print(actions[np.argmax(network.forward(act.reshape(boardSize[0] *boardSize[1])).detach().numpy())])\n",
    "        p.move(actions[np.argmax(network.forward(act.reshape(boardSize[0] *boardSize[1])).detach().numpy())])\n",
    "        \n",
    "        #p.move(actions[np.argmax(getRewardForMovements(p,a,obstacles))])\n",
    "        #print(str(p.x)+ \" \" + str(p.y))\n",
    "        #print(actions[np.argmax(getRewardForMovements(p,a,obstacles))])\n",
    "        #print(getRewardForMovements(p,a,obstacles))\n",
    "        #reward[i] = getReward(p,a,obstacles)\n",
    "        #print(p.y)\n",
    "        print(i)\n",
    "        gameStates[i] = createMap(p,a,obstacles)\n",
    "        X[j*timeSteps+i] = createMap(p,a,obstacles)\n",
    "        Y[j*timeSteps+i,np.argmax(getRewardForMovements(p,a,obstacles))] = 1\n",
    "    #print(\"-----------------------------\")\n",
    "    \n",
    "    \n",
    "showGameHist(gameStates, reward) # Zeigt spielverlauf und den aktuellen Reward an"
   ]
  },
  {
   "cell_type": "code",
   "execution_count": null,
   "metadata": {},
   "outputs": [],
   "source": []
  }
 ],
 "metadata": {
  "kernelspec": {
   "display_name": "Python 3",
   "language": "python",
   "name": "python3"
  },
  "language_info": {
   "codemirror_mode": {
    "name": "ipython",
    "version": 3
   },
   "file_extension": ".py",
   "mimetype": "text/x-python",
   "name": "python",
   "nbconvert_exporter": "python",
   "pygments_lexer": "ipython3",
   "version": "3.8.0"
  }
 },
 "nbformat": 4,
 "nbformat_minor": 4
}

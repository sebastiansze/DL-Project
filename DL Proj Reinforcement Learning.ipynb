{
 "cells": [
  {
   "cell_type": "code",
   "execution_count": 1,
   "metadata": {},
   "outputs": [],
   "source": [
    "import numpy as np\n",
    "import matplotlib.pyplot as plt\n",
    "\n",
    "import torch.optim as optim\n",
    "import torch.nn as nn\n",
    "import torch.nn.functional as F\n",
    "import torch"
   ]
  },
  {
   "cell_type": "code",
   "execution_count": 2,
   "metadata": {},
   "outputs": [],
   "source": [
    "boardSize = (10,10)   # Legt die Größe des Feldes fest\n",
    "timeSteps = 20 # Legt die Spieldauer fest (Anz. Iterationen)\n",
    "safeDist = 10"
   ]
  },
  {
   "cell_type": "code",
   "execution_count": 3,
   "metadata": {},
   "outputs": [],
   "source": [
    "# Classes\n",
    "\n",
    "class player:\n",
    "    def __init__(self,x,y):\n",
    "        self.x = x\n",
    "        self.y = y\n",
    "    def move(self,dir):         # Wir können später gerne noch diagonale Bewegungen hinzufügen\n",
    "        if dir == \"up\":\n",
    "            if self.y +1 < boardSize[1]:\n",
    "                self.y +=1\n",
    "        if dir == \"down\":\n",
    "            if self.y -1 >= 0:\n",
    "                self.y -=1\n",
    "        if dir == \"right\":\n",
    "            if self.x +1 < boardSize[0]:\n",
    "                self.x +=1\n",
    "        if dir == \"left\":\n",
    "            if self.y -1 >= 0:\n",
    "                self.x -=1\n",
    "            \n",
    "            \n",
    "class aim:\n",
    "    def __init__(self,x,y):\n",
    "        self.x = x\n",
    "        self.y = y        \n",
    "        \n",
    "        \n",
    "class obstacle:\n",
    "    def __init__(self,x,y):\n",
    "        self.x = x\n",
    "        self.y = y "
   ]
  },
  {
   "cell_type": "code",
   "execution_count": 4,
   "metadata": {},
   "outputs": [],
   "source": [
    "def createMap(p,a,obstacles):\n",
    "    m = np.ones(boardSize)\n",
    "    m[p.x,p.y] = 0\n",
    "    m[a.x,a.y] = 0.5\n",
    "    for ob in obstacles:\n",
    "        m[ob.x,ob.y] = 0.9\n",
    "    return m\n",
    "\n",
    "\n",
    "def createData(p,a,obstacles):\n",
    "    m = np.ones(boardSize)\n",
    "    data = np.array([p.x, p.y, a.x, a.y])\n",
    "    m[p.x,p.y] = 0\n",
    "    m[a.x,a.y] = 0.5\n",
    "    for ob in obstacles:\n",
    "        m[ob.x,ob.y] = 0.9\n",
    "    return m, data\n",
    "\n",
    "\n",
    "\n",
    "\n",
    "def createRewardMap(p,a,obstacles):\n",
    "    m = np.ones(boardSize)\n",
    "    m[p.x,p.y] = 0\n",
    "    m[a.x,a.y] = 0.5\n",
    "    for ob in obstacles:\n",
    "        m[ob.x,ob.y] = 0.9\n",
    "    return m\n",
    "\n",
    "    \n",
    "def showMap(m):\n",
    "    plt.imshow(m, cmap='hot', interpolation='nearest')\n",
    "    plt.show()\n",
    "    \n",
    "    \n",
    "def showGameHist(hist,reward):\n",
    "    for t in range(timeSteps):\n",
    "        showMap(hist[t])\n",
    "        print(reward[t])\n",
    "        \n",
    "        \n",
    "def distance(a, b,special=False):\n",
    "    #print(special)\n",
    "    if(special):\n",
    "\n",
    "        b.x\n",
    "        return np.sqrt(np.square(a[0]-b.x)+np.square(a[1]-b.y))\n",
    "    else:\n",
    "        return np.sqrt(np.square(a.x-b.x)+np.square(a.y-b.y))\n",
    "\n",
    "    \n",
    "def checkBounds(p):\n",
    "    if(p[0]<0):\n",
    "        return -1000\n",
    "    if(p[1]<0):\n",
    "        return -1000\n",
    "    if(p[0]>=boardSize[0]):\n",
    "        return -1000\n",
    "    if(p[1]>=boardSize[1]):\n",
    "        return -1000\n",
    "    return 0\n",
    "    \n",
    "    \n",
    "def getRewardForAllFields(a,obstacles):  # Reward für alle Felder\n",
    "    board = np.zeros((boardSize[0],boardSize[1]))\n",
    "    for i in range(boardSize[0]):\n",
    "        for j in range(boardSize[1]):\n",
    "            board[i,j] = getRewardForField(i,j, a ,obstacles)\n",
    "    return board\n",
    "\n",
    "\n",
    "def getRewardForField(x,y, a ,obstacles):  # Reward für alle Felder\n",
    "    pos = [x,y]\n",
    "    reward = 100\n",
    "    reward -= 10*1*distance(pos,a,special=True)\n",
    "    reward += checkBounds(pos)\n",
    "    for ob in obstacles:\n",
    "        reward -= 30*np.exp(-(distance(pos,ob,special=True)*safeDist))\n",
    "    if(x == a.x and y == a.y):\n",
    "        reward =  2000\n",
    "    return reward\n",
    "\n",
    "\n",
    "def getRewardForActions(p,a,obstacles):  # Reward für alle Felder\n",
    "    actionReward = np.zeros(4)\n",
    "    for i in range(4):\n",
    "        p_pred = [p.x, p.y]\n",
    "        if(i==0):\n",
    "            p_pred[1] +=1\n",
    "        if(i==1):\n",
    "            p_pred[1] -=1\n",
    "        if(i==2):\n",
    "            p_pred[0] +=1\n",
    "        if(i==3):\n",
    "            p_pred[0] -=1\n",
    "                   \n",
    "        actionReward[i] = getRewardForField(p_pred[0],p_pred[1], a ,obstacles)\n",
    "    return actionReward\n",
    "\n",
    "def getRewardForAction(p,a,obstacles, action):  # Reward für alle Felder\n",
    "        if(action == \"up\"):\n",
    "            return getRewardForField(p.x,p.y-1, a , obstacles)\n",
    "        if(action == \"down\"):\n",
    "            return getRewardForField(p.x,p.y+1, a , obstacles)\n",
    "        if(action == \"right\"):\n",
    "            return getRewardForField(p.x+1,p.y, a , obstacles)\n",
    "        if(action == \"left\"):\n",
    "            return getRewardForField(p.x-1,p.y, a , obstacles)\n",
    "\n",
    "\n",
    "########## Movements\n",
    "\n",
    "\n",
    "actions = {\n",
    "    0 : \"up\",\n",
    "    1 : \"down\",\n",
    "    2 : \"right\",\n",
    "    3 : \"left\"\n",
    "}   "
   ]
  },
  {
   "cell_type": "code",
   "execution_count": 75,
   "metadata": {},
   "outputs": [],
   "source": [
    "\n",
    "\n",
    "def getInput(p,a,obstacles):\n",
    "    m = np.ones(boardSize)\n",
    "    data = np.array([p.x, p.y, a.x, a.y])\n",
    "    m[p.x,p.y] = 0\n",
    "    m[a.x,a.y] = 0.5\n",
    "    numObs = len(obstacles)\n",
    "    print(numObs)\n",
    "    other =  np.zeros((numObs,2))\n",
    "    for i in range(numObs):\n",
    "        other[i] = np.array([obstacles[i].x, obstacles[i].y])\n",
    "    for ob in obstacles:\n",
    "        m[ob.x,ob.y] = 0.9\n",
    "    return np.array([m.flatten(), data.flatten(), other.flatten()])\n",
    "    #return np.stack(m.flatten(), data.flatten(), other.flatten())"
   ]
  },
  {
   "cell_type": "code",
   "execution_count": 76,
   "metadata": {},
   "outputs": [
    {
     "name": "stdout",
     "output_type": "stream",
     "text": [
      "7\n"
     ]
    }
   ],
   "source": [
    "p = player(2,2)  # player is black\n",
    "p.x = np.random.randint(0,boardSize[0])\n",
    "p.y = np.random.randint(0,boardSize[1])\n",
    "a = aim(8,9)   # Aim is Orange\n",
    "a = getInput(p,a,obstacles)"
   ]
  },
  {
   "cell_type": "code",
   "execution_count": 77,
   "metadata": {},
   "outputs": [
    {
     "data": {
      "text/plain": [
       "array([array([1. , 1. , 1. , 1. , 1. , 1. , 1. , 1. , 1. , 1. , 1. , 1. , 1. ,\n",
       "       1. , 1. , 1. , 1. , 1. , 1. , 1. , 1. , 1. , 1. , 1. , 1. , 1. ,\n",
       "       1. , 1. , 1. , 1. , 1. , 1. , 1. , 1. , 1. , 0.9, 1. , 1. , 1. ,\n",
       "       1. , 1. , 0. , 1. , 1. , 1. , 1. , 1. , 1. , 1. , 1. , 1. , 1. ,\n",
       "       1. , 1. , 1. , 0.9, 1. , 1. , 1. , 1. , 1. , 1. , 1. , 1. , 0.9,\n",
       "       0.9, 0.9, 1. , 1. , 1. , 1. , 1. , 1. , 1. , 0.9, 1. , 1. , 1. ,\n",
       "       1. , 1. , 1. , 1. , 1. , 1. , 1. , 1. , 1. , 1. , 1. , 0.5, 1. ,\n",
       "       1. , 1. , 1. , 1. , 1. , 1. , 1. , 0.9, 1. ]),\n",
       "       array([4, 1, 8, 9]),\n",
       "       array([9., 8., 5., 5., 3., 5., 7., 4., 6., 6., 6., 5., 6., 4.])],\n",
       "      dtype=object)"
      ]
     },
     "execution_count": 77,
     "metadata": {},
     "output_type": "execute_result"
    }
   ],
   "source": [
    "a"
   ]
  },
  {
   "cell_type": "code",
   "execution_count": 57,
   "metadata": {},
   "outputs": [],
   "source": [
    "a = np.ones(3)\n",
    "b = np.zeros(5)\n"
   ]
  },
  {
   "cell_type": "code",
   "execution_count": null,
   "metadata": {},
   "outputs": [],
   "source": []
  },
  {
   "cell_type": "code",
   "execution_count": 6,
   "metadata": {
    "scrolled": false
   },
   "outputs": [],
   "source": [
    "# Init für Board und Reward\n",
    "gameStates = np.zeros((timeSteps, boardSize[0],boardSize[1] ))  # Speichert Spielverlauf für jeden Timestep\n",
    "#gameData = np.zeros((timeSteps, 4))\n",
    "reward = np.zeros(timeSteps)\n",
    "num_Games = 200\n",
    "X = np.zeros((num_Games*timeSteps,boardSize[0],boardSize[1]))\n",
    "Xd = np.zeros((num_Games*timeSteps,4))\n",
    "Y = np.zeros((num_Games*timeSteps,4))\n",
    "# Initiale Start und End position\n",
    "for j in range(num_Games):\n",
    "    p = player(2,2)  # player is black\n",
    "    p.x = np.random.randint(0,boardSize[0])\n",
    "    p.y = np.random.randint(0,boardSize[1])\n",
    "    a = aim(8,9)   # Aim is Orange\n",
    "    \n",
    "    obstacles = [\n",
    "        obstacle(9,8),\n",
    "        obstacle(5,5),\n",
    "        obstacle(3,5),\n",
    "        obstacle(7,4),\n",
    "        obstacle(6,6),\n",
    "        obstacle(6,5),\n",
    "        obstacle(6,4)\n",
    "    ]\n",
    "    #gameStates[0] = createMap(p,a,obstacles) # Initiales Feld \n",
    "    #X[j*timeSteps]\n",
    "    \n",
    "    for i in range(0, timeSteps):   # Game Loop\n",
    "        #showMap(createMap(p,a,obstacles))\n",
    "        #p.move(actions[np.random.randint(4)]) # Bewegungen sind erstmal Random\n",
    "        p.move(actions[np.argmax(getRewardForActions(p,a,obstacles))])\n",
    "        #print(str(p.x)+ \" \" + str(p.y))\n",
    "        #print(actions[np.argmax(getRewardForMovements(p,a,obstacles))])\n",
    "        #print(getRewardForMovements(p,a,obstacles))\n",
    "        #reward[i] = getReward(p,a,obstacles)\n",
    "        #print(p.y)\n",
    "        gameStates[i] = createMap(p,a,obstacles)\n",
    "        X[j*timeSteps+i], Xd[j*timeSteps+i]  = createData(p,a,obstacles)\n",
    "        Y[j*timeSteps+i,np.argmax(getRewardForActions(p,a,obstacles))] = 1\n",
    "    #print(\"-----------------------------\")\n",
    "    \n",
    "    \n",
    "#showGameHist(gameStates, reward) # Zeigt spielverlauf und den aktuellen Reward an"
   ]
  },
  {
   "cell_type": "code",
   "execution_count": 7,
   "metadata": {},
   "outputs": [
    {
     "data": {
      "text/plain": [
       "array([[ -20,  -13,   -6,    0,    5,   10,   14,   17,   19,   20],\n",
       "       [ -14,   -6,    1,    7,   13,   19,   23,   27,   29,   30],\n",
       "       [  -8,    0,    7,   15,   21,   27,   32,   36,   39,   40],\n",
       "       [  -2,    5,   13,   21,   29,    5,   41,   46,   49,   50],\n",
       "       [   1,   10,   19,   27,   35,   43,   50,   55,   58,   60],\n",
       "       [   5,   14,   23,   32,   41,   20,   57,   63,   68,   70],\n",
       "       [   7,   17,   27,   36,   16,   25,   33,   71,   77,   80],\n",
       "       [   9,   19,   29,   39,   19,   58,   68,   77,   85,   90],\n",
       "       [  10,   20,   30,   40,   50,   60,   70,   80,   90, 2000],\n",
       "       [   9,   19,   29,   39,   49,   58,   68,   77,   55,   90]])"
      ]
     },
     "execution_count": 7,
     "metadata": {},
     "output_type": "execute_result"
    }
   ],
   "source": [
    "np.round(getRewardForAllFields( a ,obstacles),2).astype(np.int)"
   ]
  },
  {
   "cell_type": "code",
   "execution_count": 8,
   "metadata": {},
   "outputs": [
    {
     "data": {
      "text/plain": [
       "(4000, 10, 10)"
      ]
     },
     "execution_count": 8,
     "metadata": {},
     "output_type": "execute_result"
    }
   ],
   "source": [
    "X.shape"
   ]
  },
  {
   "cell_type": "code",
   "execution_count": 9,
   "metadata": {},
   "outputs": [
    {
     "data": {
      "text/plain": [
       "(4000, 4)"
      ]
     },
     "execution_count": 9,
     "metadata": {},
     "output_type": "execute_result"
    }
   ],
   "source": [
    "Xd.shape"
   ]
  },
  {
   "cell_type": "code",
   "execution_count": 10,
   "metadata": {},
   "outputs": [
    {
     "data": {
      "text/plain": [
       "(4000, 4)"
      ]
     },
     "execution_count": 10,
     "metadata": {},
     "output_type": "execute_result"
    }
   ],
   "source": [
    "Y.shape"
   ]
  },
  {
   "cell_type": "markdown",
   "metadata": {},
   "source": [
    "Y[0]"
   ]
  },
  {
   "cell_type": "code",
   "execution_count": 11,
   "metadata": {},
   "outputs": [],
   "source": [
    "\n",
    "\n",
    "learning_rate = 0.0005\n",
    "momentum = 0.5\n",
    "\n",
    "class Net(nn.Module):\n",
    "    def __init__(self):\n",
    "        super(Net, self).__init__()\n",
    "        self.fc1 = nn.Linear(boardSize[0] *boardSize[1], 100)\n",
    "        self.fc2 = nn.Linear(100, 200)\n",
    "        #self.drop = nn.Dropout2d()\n",
    "        self.fc3 = nn.Linear(200,300)\n",
    "        self.s1 = nn.Linear(300,100)\n",
    "        self.s2 = nn.Linear(100 + 4,20)\n",
    "        self.fc4 = nn.Linear(20,4)\n",
    "\n",
    "    def forward(self, x, data):\n",
    "        \n",
    "        \n",
    "        x = F.relu(self.fc1(x))\n",
    "        x = F.relu(self.fc2(x))\n",
    "        #x = F.dropout(x, training=self.training)\n",
    "        x = F.sigmoid(self.fc3(x))\n",
    "        x = F.sigmoid(self.s1(x))\n",
    "        #print(data.shape)\n",
    "        #print(x.shape)\n",
    "        x = torch.cat((x, data), dim=0)\n",
    "        x = F.sigmoid(self.s2(x))\n",
    "        x = F.relu(self.fc4(x))\n",
    "        return F.softmax(x)\n",
    "network = Net()\n",
    "optimizer = optim.SGD(network.parameters(), lr=learning_rate,\n",
    "                      momentum=momentum)"
   ]
  },
  {
   "cell_type": "code",
   "execution_count": 12,
   "metadata": {},
   "outputs": [
    {
     "data": {
      "text/plain": [
       "'Geladen'"
      ]
     },
     "execution_count": 12,
     "metadata": {},
     "output_type": "execute_result"
    }
   ],
   "source": [
    "Xt = torch.from_numpy(X.astype(np.float32))\n",
    "Xt.requires_grad_()\n",
    "\n",
    "Xdt = torch.from_numpy(Xd.astype(np.float32))\n",
    "Xdt.requires_grad_()\n",
    "\n",
    "Yt = torch.from_numpy(Y)\n",
    "Yt.requires_grad_()\n",
    "\"Geladen\""
   ]
  },
  {
   "cell_type": "code",
   "execution_count": 13,
   "metadata": {},
   "outputs": [
    {
     "name": "stdout",
     "output_type": "stream",
     "text": [
      "5\n",
      "10\n",
      "15\n",
      "20\n",
      "25\n",
      "30\n",
      "35\n",
      "40\n",
      "45\n",
      "50\n"
     ]
    },
    {
     "name": "stderr",
     "output_type": "stream",
     "text": [
      "/Library/Frameworks/Python.framework/Versions/3.8/lib/python3.8/site-packages/torch/nn/functional.py:1569: UserWarning: nn.functional.sigmoid is deprecated. Use torch.sigmoid instead.\n",
      "  warnings.warn(\"nn.functional.sigmoid is deprecated. Use torch.sigmoid instead.\")\n",
      "<ipython-input-11-4b938d230dd9>:28: UserWarning: Implicit dimension choice for softmax has been deprecated. Change the call to include dim=X as an argument.\n",
      "  return F.softmax(x)\n"
     ]
    },
    {
     "data": {
      "text/plain": [
       "[<matplotlib.lines.Line2D at 0x7fe3f8212cd0>]"
      ]
     },
     "execution_count": 13,
     "metadata": {},
     "output_type": "execute_result"
    },
    {
     "data": {
      "image/png": "[encoded data removed]",
      "text/plain": [
       "<Figure size 432x288 with 1 Axes>"
      ]
     },
     "metadata": {
      "needs_background": "light"
     },
     "output_type": "display_data"
    }
   ],
   "source": [
    "epochs = 50\n",
    "batchSize = 1\n",
    "\n",
    "err = np.zeros(epochs)\n",
    "for i in range(epochs):\n",
    "    if i%(epochs/10) == (epochs/10)-1:\n",
    "        print(i+1)\n",
    "    batchidx = np.random.randint(0,Xt.shape[0],batchSize)\n",
    "    network.train()\n",
    "    optimizer.zero_grad()\n",
    "    #print(Xt[batchidx].shape)\n",
    "    yP = network.forward(Xt[batchidx].reshape(boardSize[0] *boardSize[1]),Xdt[batchidx].reshape(4))\n",
    "    #print(yP)     \n",
    "    loss = (yP - Yt[batchidx]).pow(2).sum()\n",
    "    #print(loss)\n",
    "    err[i] = loss\n",
    "    loss.backward()\n",
    "    optimizer.step()\n",
    "plt.plot(err)"
   ]
  },
  {
   "cell_type": "code",
   "execution_count": 128,
   "metadata": {},
   "outputs": [
    {
     "name": "stdout",
     "output_type": "stream",
     "text": [
      "1\n",
      "2\n",
      "3\n",
      "4\n",
      "5\n"
     ]
    },
    {
     "name": "stderr",
     "output_type": "stream",
     "text": [
      "/Library/Frameworks/Python.framework/Versions/3.7/lib/python3.7/site-packages/torch/nn/functional.py:1569: UserWarning: nn.functional.sigmoid is deprecated. Use torch.sigmoid instead.\n",
      "  warnings.warn(\"nn.functional.sigmoid is deprecated. Use torch.sigmoid instead.\")\n",
      "/Library/Frameworks/Python.framework/Versions/3.7/lib/python3.7/site-packages/ipykernel_launcher.py:28: UserWarning: Implicit dimension choice for softmax has been deprecated. Change the call to include dim=X as an argument.\n"
     ]
    },
    {
     "data": {
      "text/plain": [
       "[<matplotlib.lines.Line2D at 0x12f9dcb70>]"
      ]
     },
     "execution_count": 128,
     "metadata": {},
     "output_type": "execute_result"
    },
    {
     "data": {
      "image/png": "[encoded data removed]",
      "text/plain": [
       "<Figure size 432x288 with 1 Axes>"
      ]
     },
     "metadata": {
      "needs_background": "light"
     },
     "output_type": "display_data"
    }
   ],
   "source": [
    "import copy\n",
    "\n",
    "discountfactor = 0.9\n",
    "i = 0\n",
    "p = player(2,2)  # player is black\n",
    "p.x = np.random.randint(0,boardSize[0])\n",
    "p.y = np.random.randint(0,boardSize[1])\n",
    "a = aim(8,9)   # Aim is Orange\n",
    "\n",
    "obstacles = [\n",
    "    obstacle(9,8),\n",
    "    obstacle(5,5),\n",
    "    obstacle(3,5),\n",
    "    obstacle(7,4),\n",
    "    obstacle(6,6),\n",
    "    obstacle(6,5),\n",
    "    obstacle(6,4)\n",
    "]  \n",
    "network = Net()\n",
    "optimizer = optim.SGD(network.parameters(), lr=learning_rate,\n",
    "                      momentum=momentum)\n",
    "tH = 5\n",
    "games = 100\n",
    "N = tH*games\n",
    "it = 0\n",
    "rew = np.zeros(N)\n",
    "for gasd in range(games):\n",
    "    while i<tH:\n",
    "        it+=1\n",
    "        print(it)\n",
    "        i+=1\n",
    "\n",
    "\n",
    "            #agent.epsilon is set to give randomness to actions\n",
    "                #agent.epsilon = 80 - counter_games\n",
    "\n",
    "                #get old state\n",
    "                #state_old = agent.get_state(game, player1, food1)\n",
    "        board, data = createData(p,a,obstacles)\n",
    "        board = torch.from_numpy((board.reshape(boardSize[0] *boardSize[1]).astype(np.float32)))\n",
    "        board.requires_grad_()\n",
    "\n",
    "        data = torch.from_numpy(data.astype(np.float32))\n",
    "        data.requires_grad_()\n",
    "\n",
    "        if np.random.rand(1) > 0.9:\n",
    "            action = actions[np.random.randint(0, 4)]\n",
    "        else:\n",
    "            # predict action based on the old state\n",
    "            pred = network.forward(board, data)\n",
    "            action = actions[np.argmax(pred.detach().numpy())]\n",
    "            #final_move = to_categorical(np.argmax(prediction[0]), num_classes=3)[0]\n",
    "        #print(action)\n",
    "        p.move(action)\n",
    "        reward = getRewardForAction(p,a,obstacles, action)\n",
    "        rew[it] = reward\n",
    "        #print(reward)\n",
    "        board_N, data_N = createData(p,a,obstacles)\n",
    "\n",
    "        board_N = torch.from_numpy((board_N.reshape(boardSize[0] *boardSize[1]).astype(np.float32)))\n",
    "        board_N.requires_grad_()\n",
    "\n",
    "        data_N = torch.from_numpy(data_N.astype(np.float32))\n",
    "        data_N.requires_grad_()\n",
    "\n",
    "        pred = network.forward(board_N, data_N)\n",
    "        pred_n.data = pred.clone()\n",
    "        #pred_copy = copy.deepcopy(pred)\n",
    "        target = reward + discountfactor * np.max(pred_n.detach().numpy())\n",
    "        #print(target)\n",
    "        target_f = network.forward(board, data)\n",
    "\n",
    "        #target_f[np.argmax(action)] = target\n",
    "        #print(target_f)\n",
    "        network.train()\n",
    "        optimizer.zero_grad()\n",
    "\n",
    "        loss = (pred - target_f).pow(2).sum()\n",
    "\n",
    "        loss.backward()\n",
    "        optimizer.step()\n",
    "plt.plot(rew)\n",
    "        \n"
   ]
  },
  {
   "cell_type": "code",
   "execution_count": 121,
   "metadata": {},
   "outputs": [
    {
     "data": {
      "text/plain": [
       "2000"
      ]
     },
     "execution_count": 121,
     "metadata": {},
     "output_type": "execute_result"
    }
   ],
   "source": [
    "N"
   ]
  },
  {
   "cell_type": "code",
   "execution_count": 29,
   "metadata": {},
   "outputs": [],
   "source": [
    "state_old = createData(p,a,obstacles)"
   ]
  },
  {
   "cell_type": "code",
   "execution_count": 31,
   "metadata": {},
   "outputs": [
    {
     "data": {
      "text/plain": [
       "array([3, 6, 8, 9])"
      ]
     },
     "execution_count": 31,
     "metadata": {},
     "output_type": "execute_result"
    }
   ],
   "source": []
  },
  {
   "cell_type": "code",
   "execution_count": null,
   "metadata": {},
   "outputs": [],
   "source": [
    "#perform new move and get new state\n",
    "player1.do_move(final_move, player1.x, player1.y, game, food1, agent)\n",
    "state_new = agent.get_state(game, player1, food1)\n",
    "\n",
    "#set treward for the new state\n",
    "reward = agent.set_reward(player1, game.crash)\n",
    "\n",
    "#train short memory base on the new action and state\n",
    "agent.train_short_memory(state_old, final_move, reward, state_new, game.crash)\n",
    "\n",
    "# store the new data into a long term memory\n",
    "agent.remember(state_old, final_move, reward, state_new, game.crash)\n",
    "record = get_record(game.score, record)"
   ]
  }
 ],
 "metadata": {
  "kernelspec": {
   "display_name": "Python 3",
   "language": "python",
   "name": "python3"
  },
  "language_info": {
   "codemirror_mode": {
    "name": "ipython",
    "version": 3
   },
   "file_extension": ".py",
   "mimetype": "text/x-python",
   "name": "python",
   "nbconvert_exporter": "python",
   "pygments_lexer": "ipython3",
   "version": "3.8.0"
  }
 },
 "nbformat": 4,
 "nbformat_minor": 4
}
